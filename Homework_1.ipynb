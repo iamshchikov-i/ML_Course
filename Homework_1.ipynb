{
 "cells": [
  {
   "cell_type": "markdown",
   "id": "7f6fc1e7",
   "metadata": {},
   "source": [
    "## 0. Описание задачи\n",
    "\n",
    "Задача заключается в оценке качества воды по содержащимся в ней различным веществам.\n",
    "\n",
    "Объект датасета представляет собой взятую пробу воды, которая характеризуется следующими признаками:\n",
    "- 20 различных веществ, от которых может зависеть качество воды:\n",
    "    - aluminium\n",
    "    - ammonia\n",
    "    - arsenic\n",
    "    - barium\n",
    "    - cadmium\n",
    "    - chloramine\n",
    "    - chromium\n",
    "    - copper\n",
    "    - flouride\n",
    "    - bacteria\n",
    "    - viruses\n",
    "    - lead\n",
    "    - nitrates\n",
    "    - nitrites\n",
    "    - mercury\n",
    "    - perchlorate\n",
    "    - radium\n",
    "    - selenium\n",
    "    - silver\n",
    "    - uranium\n",
    "- бинарный признак, показывающий, является ли рассматриваемая проба воды безопасной (пригодной для питья)"
   ]
  },
  {
   "cell_type": "markdown",
   "id": "f05e7077",
   "metadata": {},
   "source": [
    "## 1. Чтение данных"
   ]
  },
  {
   "cell_type": "code",
   "execution_count": 3,
   "id": "50756639",
   "metadata": {},
   "outputs": [],
   "source": [
    "import numpy as np\n",
    "import matplotlib.pyplot as plt\n",
    "import pandas as pd\n",
    "import seaborn as sns \n",
    "%matplotlib inline"
   ]
  },
  {
   "cell_type": "code",
   "execution_count": 5,
   "id": "1288fb9f",
   "metadata": {},
   "outputs": [],
   "source": [
    "url = \"https://raw.githubusercontent.com/iamshchikov-i/ML_Course/main/waterQuality.csv\"\n",
    "data_raw = pd.read_csv(url)"
   ]
  },
  {
   "cell_type": "code",
   "execution_count": 6,
   "id": "df00822c",
   "metadata": {},
   "outputs": [
    {
     "data": {
      "text/html": [
       "<div>\n",
       "<style scoped>\n",
       "    .dataframe tbody tr th:only-of-type {\n",
       "        vertical-align: middle;\n",
       "    }\n",
       "\n",
       "    .dataframe tbody tr th {\n",
       "        vertical-align: top;\n",
       "    }\n",
       "\n",
       "    .dataframe thead th {\n",
       "        text-align: right;\n",
       "    }\n",
       "</style>\n",
       "<table border=\"1\" class=\"dataframe\">\n",
       "  <thead>\n",
       "    <tr style=\"text-align: right;\">\n",
       "      <th></th>\n",
       "      <th>aluminium</th>\n",
       "      <th>ammonia</th>\n",
       "      <th>arsenic</th>\n",
       "      <th>barium</th>\n",
       "      <th>cadmium</th>\n",
       "      <th>chloramine</th>\n",
       "      <th>chromium</th>\n",
       "      <th>copper</th>\n",
       "      <th>flouride</th>\n",
       "      <th>bacteria</th>\n",
       "      <th>...</th>\n",
       "      <th>lead</th>\n",
       "      <th>nitrates</th>\n",
       "      <th>nitrites</th>\n",
       "      <th>mercury</th>\n",
       "      <th>perchlorate</th>\n",
       "      <th>radium</th>\n",
       "      <th>selenium</th>\n",
       "      <th>silver</th>\n",
       "      <th>uranium</th>\n",
       "      <th>is_safe</th>\n",
       "    </tr>\n",
       "  </thead>\n",
       "  <tbody>\n",
       "    <tr>\n",
       "      <th>0</th>\n",
       "      <td>1.65</td>\n",
       "      <td>9.08</td>\n",
       "      <td>0.04</td>\n",
       "      <td>2.85</td>\n",
       "      <td>0.007</td>\n",
       "      <td>0.35</td>\n",
       "      <td>0.83</td>\n",
       "      <td>0.17</td>\n",
       "      <td>0.05</td>\n",
       "      <td>0.20</td>\n",
       "      <td>...</td>\n",
       "      <td>0.054</td>\n",
       "      <td>16.08</td>\n",
       "      <td>1.13</td>\n",
       "      <td>0.007</td>\n",
       "      <td>37.75</td>\n",
       "      <td>6.78</td>\n",
       "      <td>0.08</td>\n",
       "      <td>0.34</td>\n",
       "      <td>0.02</td>\n",
       "      <td>1</td>\n",
       "    </tr>\n",
       "    <tr>\n",
       "      <th>1</th>\n",
       "      <td>2.32</td>\n",
       "      <td>21.16</td>\n",
       "      <td>0.01</td>\n",
       "      <td>3.31</td>\n",
       "      <td>0.002</td>\n",
       "      <td>5.28</td>\n",
       "      <td>0.68</td>\n",
       "      <td>0.66</td>\n",
       "      <td>0.90</td>\n",
       "      <td>0.65</td>\n",
       "      <td>...</td>\n",
       "      <td>0.100</td>\n",
       "      <td>2.01</td>\n",
       "      <td>1.93</td>\n",
       "      <td>0.003</td>\n",
       "      <td>32.26</td>\n",
       "      <td>3.21</td>\n",
       "      <td>0.08</td>\n",
       "      <td>0.27</td>\n",
       "      <td>0.05</td>\n",
       "      <td>1</td>\n",
       "    </tr>\n",
       "    <tr>\n",
       "      <th>2</th>\n",
       "      <td>1.01</td>\n",
       "      <td>14.02</td>\n",
       "      <td>0.04</td>\n",
       "      <td>0.58</td>\n",
       "      <td>0.008</td>\n",
       "      <td>4.24</td>\n",
       "      <td>0.53</td>\n",
       "      <td>0.02</td>\n",
       "      <td>0.99</td>\n",
       "      <td>0.05</td>\n",
       "      <td>...</td>\n",
       "      <td>0.078</td>\n",
       "      <td>14.16</td>\n",
       "      <td>1.11</td>\n",
       "      <td>0.006</td>\n",
       "      <td>50.28</td>\n",
       "      <td>7.07</td>\n",
       "      <td>0.07</td>\n",
       "      <td>0.44</td>\n",
       "      <td>0.01</td>\n",
       "      <td>0</td>\n",
       "    </tr>\n",
       "    <tr>\n",
       "      <th>3</th>\n",
       "      <td>1.36</td>\n",
       "      <td>11.33</td>\n",
       "      <td>0.04</td>\n",
       "      <td>2.96</td>\n",
       "      <td>0.001</td>\n",
       "      <td>7.23</td>\n",
       "      <td>0.03</td>\n",
       "      <td>1.66</td>\n",
       "      <td>1.08</td>\n",
       "      <td>0.71</td>\n",
       "      <td>...</td>\n",
       "      <td>0.016</td>\n",
       "      <td>1.41</td>\n",
       "      <td>1.29</td>\n",
       "      <td>0.004</td>\n",
       "      <td>9.12</td>\n",
       "      <td>1.72</td>\n",
       "      <td>0.02</td>\n",
       "      <td>0.45</td>\n",
       "      <td>0.05</td>\n",
       "      <td>1</td>\n",
       "    </tr>\n",
       "    <tr>\n",
       "      <th>4</th>\n",
       "      <td>0.92</td>\n",
       "      <td>24.33</td>\n",
       "      <td>0.03</td>\n",
       "      <td>0.20</td>\n",
       "      <td>0.006</td>\n",
       "      <td>2.67</td>\n",
       "      <td>0.69</td>\n",
       "      <td>0.57</td>\n",
       "      <td>0.61</td>\n",
       "      <td>0.13</td>\n",
       "      <td>...</td>\n",
       "      <td>0.117</td>\n",
       "      <td>6.74</td>\n",
       "      <td>1.11</td>\n",
       "      <td>0.003</td>\n",
       "      <td>16.90</td>\n",
       "      <td>2.41</td>\n",
       "      <td>0.02</td>\n",
       "      <td>0.06</td>\n",
       "      <td>0.02</td>\n",
       "      <td>1</td>\n",
       "    </tr>\n",
       "    <tr>\n",
       "      <th>...</th>\n",
       "      <td>...</td>\n",
       "      <td>...</td>\n",
       "      <td>...</td>\n",
       "      <td>...</td>\n",
       "      <td>...</td>\n",
       "      <td>...</td>\n",
       "      <td>...</td>\n",
       "      <td>...</td>\n",
       "      <td>...</td>\n",
       "      <td>...</td>\n",
       "      <td>...</td>\n",
       "      <td>...</td>\n",
       "      <td>...</td>\n",
       "      <td>...</td>\n",
       "      <td>...</td>\n",
       "      <td>...</td>\n",
       "      <td>...</td>\n",
       "      <td>...</td>\n",
       "      <td>...</td>\n",
       "      <td>...</td>\n",
       "      <td>...</td>\n",
       "    </tr>\n",
       "    <tr>\n",
       "      <th>7994</th>\n",
       "      <td>0.05</td>\n",
       "      <td>7.78</td>\n",
       "      <td>0.00</td>\n",
       "      <td>1.95</td>\n",
       "      <td>0.040</td>\n",
       "      <td>0.10</td>\n",
       "      <td>0.03</td>\n",
       "      <td>0.03</td>\n",
       "      <td>1.37</td>\n",
       "      <td>0.00</td>\n",
       "      <td>...</td>\n",
       "      <td>0.197</td>\n",
       "      <td>14.29</td>\n",
       "      <td>1.00</td>\n",
       "      <td>0.005</td>\n",
       "      <td>3.57</td>\n",
       "      <td>2.13</td>\n",
       "      <td>0.09</td>\n",
       "      <td>0.06</td>\n",
       "      <td>0.03</td>\n",
       "      <td>1</td>\n",
       "    </tr>\n",
       "    <tr>\n",
       "      <th>7995</th>\n",
       "      <td>0.05</td>\n",
       "      <td>24.22</td>\n",
       "      <td>0.02</td>\n",
       "      <td>0.59</td>\n",
       "      <td>0.010</td>\n",
       "      <td>0.45</td>\n",
       "      <td>0.02</td>\n",
       "      <td>0.02</td>\n",
       "      <td>1.48</td>\n",
       "      <td>0.00</td>\n",
       "      <td>...</td>\n",
       "      <td>0.031</td>\n",
       "      <td>10.27</td>\n",
       "      <td>1.00</td>\n",
       "      <td>0.001</td>\n",
       "      <td>1.48</td>\n",
       "      <td>1.11</td>\n",
       "      <td>0.09</td>\n",
       "      <td>0.10</td>\n",
       "      <td>0.08</td>\n",
       "      <td>1</td>\n",
       "    </tr>\n",
       "    <tr>\n",
       "      <th>7996</th>\n",
       "      <td>0.09</td>\n",
       "      <td>6.85</td>\n",
       "      <td>0.00</td>\n",
       "      <td>0.61</td>\n",
       "      <td>0.030</td>\n",
       "      <td>0.05</td>\n",
       "      <td>0.05</td>\n",
       "      <td>0.02</td>\n",
       "      <td>0.91</td>\n",
       "      <td>0.00</td>\n",
       "      <td>...</td>\n",
       "      <td>0.182</td>\n",
       "      <td>15.92</td>\n",
       "      <td>1.00</td>\n",
       "      <td>0.000</td>\n",
       "      <td>1.35</td>\n",
       "      <td>4.84</td>\n",
       "      <td>0.00</td>\n",
       "      <td>0.04</td>\n",
       "      <td>0.05</td>\n",
       "      <td>1</td>\n",
       "    </tr>\n",
       "    <tr>\n",
       "      <th>7997</th>\n",
       "      <td>0.01</td>\n",
       "      <td>10</td>\n",
       "      <td>0.01</td>\n",
       "      <td>2.00</td>\n",
       "      <td>0.000</td>\n",
       "      <td>2.00</td>\n",
       "      <td>0.00</td>\n",
       "      <td>0.09</td>\n",
       "      <td>0.00</td>\n",
       "      <td>0.00</td>\n",
       "      <td>...</td>\n",
       "      <td>0.000</td>\n",
       "      <td>0.00</td>\n",
       "      <td>0.00</td>\n",
       "      <td>0.000</td>\n",
       "      <td>0.00</td>\n",
       "      <td>0.00</td>\n",
       "      <td>0.00</td>\n",
       "      <td>0.00</td>\n",
       "      <td>0.00</td>\n",
       "      <td>1</td>\n",
       "    </tr>\n",
       "    <tr>\n",
       "      <th>7998</th>\n",
       "      <td>0.04</td>\n",
       "      <td>6.85</td>\n",
       "      <td>0.01</td>\n",
       "      <td>0.70</td>\n",
       "      <td>0.030</td>\n",
       "      <td>0.05</td>\n",
       "      <td>0.01</td>\n",
       "      <td>0.03</td>\n",
       "      <td>1.00</td>\n",
       "      <td>0.00</td>\n",
       "      <td>...</td>\n",
       "      <td>0.182</td>\n",
       "      <td>15.92</td>\n",
       "      <td>1.00</td>\n",
       "      <td>0.000</td>\n",
       "      <td>1.35</td>\n",
       "      <td>4.84</td>\n",
       "      <td>0.00</td>\n",
       "      <td>0.04</td>\n",
       "      <td>0.05</td>\n",
       "      <td>1</td>\n",
       "    </tr>\n",
       "  </tbody>\n",
       "</table>\n",
       "<p>7999 rows × 21 columns</p>\n",
       "</div>"
      ],
      "text/plain": [
       "      aluminium ammonia  arsenic  barium  cadmium  chloramine  chromium  \\\n",
       "0          1.65    9.08     0.04    2.85    0.007        0.35      0.83   \n",
       "1          2.32   21.16     0.01    3.31    0.002        5.28      0.68   \n",
       "2          1.01   14.02     0.04    0.58    0.008        4.24      0.53   \n",
       "3          1.36   11.33     0.04    2.96    0.001        7.23      0.03   \n",
       "4          0.92   24.33     0.03    0.20    0.006        2.67      0.69   \n",
       "...         ...     ...      ...     ...      ...         ...       ...   \n",
       "7994       0.05    7.78     0.00    1.95    0.040        0.10      0.03   \n",
       "7995       0.05   24.22     0.02    0.59    0.010        0.45      0.02   \n",
       "7996       0.09    6.85     0.00    0.61    0.030        0.05      0.05   \n",
       "7997       0.01      10     0.01    2.00    0.000        2.00      0.00   \n",
       "7998       0.04    6.85     0.01    0.70    0.030        0.05      0.01   \n",
       "\n",
       "      copper  flouride  bacteria  ...   lead  nitrates  nitrites  mercury  \\\n",
       "0       0.17      0.05      0.20  ...  0.054     16.08      1.13    0.007   \n",
       "1       0.66      0.90      0.65  ...  0.100      2.01      1.93    0.003   \n",
       "2       0.02      0.99      0.05  ...  0.078     14.16      1.11    0.006   \n",
       "3       1.66      1.08      0.71  ...  0.016      1.41      1.29    0.004   \n",
       "4       0.57      0.61      0.13  ...  0.117      6.74      1.11    0.003   \n",
       "...      ...       ...       ...  ...    ...       ...       ...      ...   \n",
       "7994    0.03      1.37      0.00  ...  0.197     14.29      1.00    0.005   \n",
       "7995    0.02      1.48      0.00  ...  0.031     10.27      1.00    0.001   \n",
       "7996    0.02      0.91      0.00  ...  0.182     15.92      1.00    0.000   \n",
       "7997    0.09      0.00      0.00  ...  0.000      0.00      0.00    0.000   \n",
       "7998    0.03      1.00      0.00  ...  0.182     15.92      1.00    0.000   \n",
       "\n",
       "      perchlorate  radium  selenium  silver  uranium  is_safe  \n",
       "0           37.75    6.78      0.08    0.34     0.02        1  \n",
       "1           32.26    3.21      0.08    0.27     0.05        1  \n",
       "2           50.28    7.07      0.07    0.44     0.01        0  \n",
       "3            9.12    1.72      0.02    0.45     0.05        1  \n",
       "4           16.90    2.41      0.02    0.06     0.02        1  \n",
       "...           ...     ...       ...     ...      ...      ...  \n",
       "7994         3.57    2.13      0.09    0.06     0.03        1  \n",
       "7995         1.48    1.11      0.09    0.10     0.08        1  \n",
       "7996         1.35    4.84      0.00    0.04     0.05        1  \n",
       "7997         0.00    0.00      0.00    0.00     0.00        1  \n",
       "7998         1.35    4.84      0.00    0.04     0.05        1  \n",
       "\n",
       "[7999 rows x 21 columns]"
      ]
     },
     "execution_count": 6,
     "metadata": {},
     "output_type": "execute_result"
    }
   ],
   "source": [
    "data_raw"
   ]
  },
  {
   "cell_type": "markdown",
   "id": "605b5d08",
   "metadata": {},
   "source": [
    "## 2. Обработка пропущенных (невалидных) значений"
   ]
  },
  {
   "cell_type": "markdown",
   "id": "94d74bc0",
   "metadata": {},
   "source": [
    "В данных присутствуют некоторые невалидные объекты с признаком *is_safe* = *#NUM!*\n",
    "\n",
    "Необходимо удалить соответствующие объекты (3 шт.)."
   ]
  },
  {
   "cell_type": "code",
   "execution_count": 7,
   "id": "a81f0661",
   "metadata": {},
   "outputs": [
    {
     "data": {
      "text/plain": [
       "(7996, 21)"
      ]
     },
     "execution_count": 7,
     "metadata": {},
     "output_type": "execute_result"
    }
   ],
   "source": [
    "rows_to_drop = data_raw[\n",
    "    ~((data_raw['is_safe'] == '0') | (data_raw['is_safe'] == '1'))].index\n",
    "data = data_raw.drop(rows_to_drop)\n",
    "data.shape"
   ]
  },
  {
   "cell_type": "markdown",
   "id": "bdb77b49",
   "metadata": {},
   "source": [
    "Категориальных признаков нет. Однако, некоторые столбцы имеют тип *object* из-за наличия невалидных значений (удалены на предыдущем шаге).\n",
    "\n",
    "Приведем соответствующие столбцы к числовому типу *float64*"
   ]
  },
  {
   "cell_type": "code",
   "execution_count": 8,
   "id": "469435c9",
   "metadata": {},
   "outputs": [
    {
     "name": "stdout",
     "output_type": "stream",
     "text": [
      "float64\n",
      "float64\n",
      "float64\n",
      "float64\n",
      "float64\n",
      "float64\n",
      "float64\n",
      "float64\n",
      "float64\n",
      "float64\n",
      "float64\n",
      "float64\n",
      "float64\n",
      "float64\n",
      "float64\n",
      "float64\n",
      "float64\n",
      "float64\n",
      "float64\n",
      "float64\n",
      "float64\n"
     ]
    }
   ],
   "source": [
    "for feature in data.columns:\n",
    "    if data[feature].dtype == 'object':\n",
    "        data[feature] = data[feature].astype('float64')\n",
    "\n",
    "for feature in data.columns:\n",
    "    print(data[feature].dtype)"
   ]
  },
  {
   "cell_type": "markdown",
   "id": "3b18705c",
   "metadata": {},
   "source": [
    "## 3. Обработка категориальных признаков\n",
    "\n",
    "Категориальные признаки отсутствуют."
   ]
  },
  {
   "cell_type": "markdown",
   "id": "f46c5dce",
   "metadata": {},
   "source": [
    "## 4. Визуализация"
   ]
  },
  {
   "cell_type": "markdown",
   "id": "3a2e8514",
   "metadata": {},
   "source": [
    "Построим график зависимости для содержания мышьяка и признака безопасности воды:"
   ]
  },
  {
   "cell_type": "code",
   "execution_count": 9,
   "id": "a3102ecf",
   "metadata": {
    "scrolled": true
   },
   "outputs": [
    {
     "data": {
      "image/png": "[encoded data removed]",
      "text/plain": [
       "<Figure size 432x288 with 1 Axes>"
      ]
     },
     "metadata": {
      "needs_background": "light"
     },
     "output_type": "display_data"
    }
   ],
   "source": [
    "plt.scatter(data['is_safe'], data['arsenic'], alpha=0.01)\n",
    "pass"
   ]
  },
  {
   "cell_type": "markdown",
   "id": "1e7956d6",
   "metadata": {},
   "source": [
    "В большинстве проб воды, качество которой является приемлемым, содержание мышьяка (*arsenic*) ниже, чем *~0.1*"
   ]
  },
  {
   "cell_type": "markdown",
   "id": "21a43d4c",
   "metadata": {},
   "source": [
    "Построим график зависимости для содержания нитритов и признака безопасности воды:"
   ]
  },
  {
   "cell_type": "code",
   "execution_count": 10,
   "id": "41ced303",
   "metadata": {
    "scrolled": true
   },
   "outputs": [
    {
     "data": {
      "image/png": "[encoded data removed]",
      "text/plain": [
       "<Figure size 432x288 with 1 Axes>"
      ]
     },
     "metadata": {
      "needs_background": "light"
     },
     "output_type": "display_data"
    }
   ],
   "source": [
    "plt.scatter(data['is_safe'], data['nitrites'], alpha=0.01)\n",
    "pass"
   ]
  },
  {
   "cell_type": "markdown",
   "id": "bd19ab76",
   "metadata": {},
   "source": [
    "В большинстве проб воды, качество которой является приемлемым, содержание нитритов (*nitrites*) находится в диапазоне *~[1.0, 2.0]*"
   ]
  },
  {
   "cell_type": "markdown",
   "id": "907fbdff",
   "metadata": {},
   "source": [
    "Вычислим основные характеристики:"
   ]
  },
  {
   "cell_type": "code",
   "execution_count": 12,
   "id": "ff177a43",
   "metadata": {
    "scrolled": true
   },
   "outputs": [
    {
     "data": {
      "text/html": [
       "<div>\n",
       "<style scoped>\n",
       "    .dataframe tbody tr th:only-of-type {\n",
       "        vertical-align: middle;\n",
       "    }\n",
       "\n",
       "    .dataframe tbody tr th {\n",
       "        vertical-align: top;\n",
       "    }\n",
       "\n",
       "    .dataframe thead th {\n",
       "        text-align: right;\n",
       "    }\n",
       "</style>\n",
       "<table border=\"1\" class=\"dataframe\">\n",
       "  <thead>\n",
       "    <tr style=\"text-align: right;\">\n",
       "      <th></th>\n",
       "      <th>aluminium</th>\n",
       "      <th>ammonia</th>\n",
       "      <th>arsenic</th>\n",
       "      <th>barium</th>\n",
       "      <th>cadmium</th>\n",
       "      <th>chloramine</th>\n",
       "      <th>chromium</th>\n",
       "      <th>copper</th>\n",
       "      <th>flouride</th>\n",
       "      <th>bacteria</th>\n",
       "      <th>...</th>\n",
       "      <th>lead</th>\n",
       "      <th>nitrates</th>\n",
       "      <th>nitrites</th>\n",
       "      <th>mercury</th>\n",
       "      <th>perchlorate</th>\n",
       "      <th>radium</th>\n",
       "      <th>selenium</th>\n",
       "      <th>silver</th>\n",
       "      <th>uranium</th>\n",
       "      <th>is_safe</th>\n",
       "    </tr>\n",
       "  </thead>\n",
       "  <tbody>\n",
       "    <tr>\n",
       "      <th>count</th>\n",
       "      <td>7996.000000</td>\n",
       "      <td>7996.000000</td>\n",
       "      <td>7996.000000</td>\n",
       "      <td>7996.000000</td>\n",
       "      <td>7996.000000</td>\n",
       "      <td>7996.000000</td>\n",
       "      <td>7996.000000</td>\n",
       "      <td>7996.000000</td>\n",
       "      <td>7996.000000</td>\n",
       "      <td>7996.000000</td>\n",
       "      <td>...</td>\n",
       "      <td>7996.000000</td>\n",
       "      <td>7996.000000</td>\n",
       "      <td>7996.000000</td>\n",
       "      <td>7996.000000</td>\n",
       "      <td>7996.000000</td>\n",
       "      <td>7996.000000</td>\n",
       "      <td>7996.000000</td>\n",
       "      <td>7996.000000</td>\n",
       "      <td>7996.000000</td>\n",
       "      <td>7996.000000</td>\n",
       "    </tr>\n",
       "    <tr>\n",
       "      <th>mean</th>\n",
       "      <td>0.666396</td>\n",
       "      <td>14.278212</td>\n",
       "      <td>0.161477</td>\n",
       "      <td>1.567928</td>\n",
       "      <td>0.042803</td>\n",
       "      <td>2.177589</td>\n",
       "      <td>0.247300</td>\n",
       "      <td>0.805940</td>\n",
       "      <td>0.771646</td>\n",
       "      <td>0.319714</td>\n",
       "      <td>...</td>\n",
       "      <td>0.099431</td>\n",
       "      <td>9.819250</td>\n",
       "      <td>1.329846</td>\n",
       "      <td>0.005193</td>\n",
       "      <td>16.465266</td>\n",
       "      <td>2.920106</td>\n",
       "      <td>0.049684</td>\n",
       "      <td>0.147811</td>\n",
       "      <td>0.044672</td>\n",
       "      <td>0.114057</td>\n",
       "    </tr>\n",
       "    <tr>\n",
       "      <th>std</th>\n",
       "      <td>1.265323</td>\n",
       "      <td>8.878930</td>\n",
       "      <td>0.252632</td>\n",
       "      <td>1.216227</td>\n",
       "      <td>0.036049</td>\n",
       "      <td>2.567210</td>\n",
       "      <td>0.270663</td>\n",
       "      <td>0.653595</td>\n",
       "      <td>0.435423</td>\n",
       "      <td>0.329497</td>\n",
       "      <td>...</td>\n",
       "      <td>0.058169</td>\n",
       "      <td>5.541977</td>\n",
       "      <td>0.573271</td>\n",
       "      <td>0.002967</td>\n",
       "      <td>17.688827</td>\n",
       "      <td>2.322805</td>\n",
       "      <td>0.028773</td>\n",
       "      <td>0.143569</td>\n",
       "      <td>0.026906</td>\n",
       "      <td>0.317900</td>\n",
       "    </tr>\n",
       "    <tr>\n",
       "      <th>min</th>\n",
       "      <td>0.000000</td>\n",
       "      <td>-0.080000</td>\n",
       "      <td>0.000000</td>\n",
       "      <td>0.000000</td>\n",
       "      <td>0.000000</td>\n",
       "      <td>0.000000</td>\n",
       "      <td>0.000000</td>\n",
       "      <td>0.000000</td>\n",
       "      <td>0.000000</td>\n",
       "      <td>0.000000</td>\n",
       "      <td>...</td>\n",
       "      <td>0.000000</td>\n",
       "      <td>0.000000</td>\n",
       "      <td>0.000000</td>\n",
       "      <td>0.000000</td>\n",
       "      <td>0.000000</td>\n",
       "      <td>0.000000</td>\n",
       "      <td>0.000000</td>\n",
       "      <td>0.000000</td>\n",
       "      <td>0.000000</td>\n",
       "      <td>0.000000</td>\n",
       "    </tr>\n",
       "    <tr>\n",
       "      <th>25%</th>\n",
       "      <td>0.040000</td>\n",
       "      <td>6.577500</td>\n",
       "      <td>0.030000</td>\n",
       "      <td>0.560000</td>\n",
       "      <td>0.008000</td>\n",
       "      <td>0.100000</td>\n",
       "      <td>0.050000</td>\n",
       "      <td>0.090000</td>\n",
       "      <td>0.407500</td>\n",
       "      <td>0.000000</td>\n",
       "      <td>...</td>\n",
       "      <td>0.048000</td>\n",
       "      <td>5.000000</td>\n",
       "      <td>1.000000</td>\n",
       "      <td>0.003000</td>\n",
       "      <td>2.170000</td>\n",
       "      <td>0.820000</td>\n",
       "      <td>0.020000</td>\n",
       "      <td>0.040000</td>\n",
       "      <td>0.020000</td>\n",
       "      <td>0.000000</td>\n",
       "    </tr>\n",
       "    <tr>\n",
       "      <th>50%</th>\n",
       "      <td>0.070000</td>\n",
       "      <td>14.130000</td>\n",
       "      <td>0.050000</td>\n",
       "      <td>1.190000</td>\n",
       "      <td>0.040000</td>\n",
       "      <td>0.530000</td>\n",
       "      <td>0.090000</td>\n",
       "      <td>0.750000</td>\n",
       "      <td>0.770000</td>\n",
       "      <td>0.220000</td>\n",
       "      <td>...</td>\n",
       "      <td>0.102000</td>\n",
       "      <td>9.930000</td>\n",
       "      <td>1.420000</td>\n",
       "      <td>0.005000</td>\n",
       "      <td>7.745000</td>\n",
       "      <td>2.410000</td>\n",
       "      <td>0.050000</td>\n",
       "      <td>0.080000</td>\n",
       "      <td>0.050000</td>\n",
       "      <td>0.000000</td>\n",
       "    </tr>\n",
       "    <tr>\n",
       "      <th>75%</th>\n",
       "      <td>0.280000</td>\n",
       "      <td>22.132500</td>\n",
       "      <td>0.100000</td>\n",
       "      <td>2.482500</td>\n",
       "      <td>0.070000</td>\n",
       "      <td>4.240000</td>\n",
       "      <td>0.440000</td>\n",
       "      <td>1.390000</td>\n",
       "      <td>1.160000</td>\n",
       "      <td>0.610000</td>\n",
       "      <td>...</td>\n",
       "      <td>0.151000</td>\n",
       "      <td>14.610000</td>\n",
       "      <td>1.760000</td>\n",
       "      <td>0.008000</td>\n",
       "      <td>29.487500</td>\n",
       "      <td>4.670000</td>\n",
       "      <td>0.070000</td>\n",
       "      <td>0.240000</td>\n",
       "      <td>0.070000</td>\n",
       "      <td>0.000000</td>\n",
       "    </tr>\n",
       "    <tr>\n",
       "      <th>max</th>\n",
       "      <td>5.050000</td>\n",
       "      <td>29.840000</td>\n",
       "      <td>1.050000</td>\n",
       "      <td>4.940000</td>\n",
       "      <td>0.130000</td>\n",
       "      <td>8.680000</td>\n",
       "      <td>0.900000</td>\n",
       "      <td>2.000000</td>\n",
       "      <td>1.500000</td>\n",
       "      <td>1.000000</td>\n",
       "      <td>...</td>\n",
       "      <td>0.200000</td>\n",
       "      <td>19.830000</td>\n",
       "      <td>2.930000</td>\n",
       "      <td>0.010000</td>\n",
       "      <td>60.010000</td>\n",
       "      <td>7.990000</td>\n",
       "      <td>0.100000</td>\n",
       "      <td>0.500000</td>\n",
       "      <td>0.090000</td>\n",
       "      <td>1.000000</td>\n",
       "    </tr>\n",
       "  </tbody>\n",
       "</table>\n",
       "<p>8 rows × 21 columns</p>\n",
       "</div>"
      ],
      "text/plain": [
       "         aluminium      ammonia      arsenic       barium      cadmium  \\\n",
       "count  7996.000000  7996.000000  7996.000000  7996.000000  7996.000000   \n",
       "mean      0.666396    14.278212     0.161477     1.567928     0.042803   \n",
       "std       1.265323     8.878930     0.252632     1.216227     0.036049   \n",
       "min       0.000000    -0.080000     0.000000     0.000000     0.000000   \n",
       "25%       0.040000     6.577500     0.030000     0.560000     0.008000   \n",
       "50%       0.070000    14.130000     0.050000     1.190000     0.040000   \n",
       "75%       0.280000    22.132500     0.100000     2.482500     0.070000   \n",
       "max       5.050000    29.840000     1.050000     4.940000     0.130000   \n",
       "\n",
       "        chloramine     chromium       copper     flouride     bacteria  ...  \\\n",
       "count  7996.000000  7996.000000  7996.000000  7996.000000  7996.000000  ...   \n",
       "mean      2.177589     0.247300     0.805940     0.771646     0.319714  ...   \n",
       "std       2.567210     0.270663     0.653595     0.435423     0.329497  ...   \n",
       "min       0.000000     0.000000     0.000000     0.000000     0.000000  ...   \n",
       "25%       0.100000     0.050000     0.090000     0.407500     0.000000  ...   \n",
       "50%       0.530000     0.090000     0.750000     0.770000     0.220000  ...   \n",
       "75%       4.240000     0.440000     1.390000     1.160000     0.610000  ...   \n",
       "max       8.680000     0.900000     2.000000     1.500000     1.000000  ...   \n",
       "\n",
       "              lead     nitrates     nitrites      mercury  perchlorate  \\\n",
       "count  7996.000000  7996.000000  7996.000000  7996.000000  7996.000000   \n",
       "mean      0.099431     9.819250     1.329846     0.005193    16.465266   \n",
       "std       0.058169     5.541977     0.573271     0.002967    17.688827   \n",
       "min       0.000000     0.000000     0.000000     0.000000     0.000000   \n",
       "25%       0.048000     5.000000     1.000000     0.003000     2.170000   \n",
       "50%       0.102000     9.930000     1.420000     0.005000     7.745000   \n",
       "75%       0.151000    14.610000     1.760000     0.008000    29.487500   \n",
       "max       0.200000    19.830000     2.930000     0.010000    60.010000   \n",
       "\n",
       "            radium     selenium       silver      uranium      is_safe  \n",
       "count  7996.000000  7996.000000  7996.000000  7996.000000  7996.000000  \n",
       "mean      2.920106     0.049684     0.147811     0.044672     0.114057  \n",
       "std       2.322805     0.028773     0.143569     0.026906     0.317900  \n",
       "min       0.000000     0.000000     0.000000     0.000000     0.000000  \n",
       "25%       0.820000     0.020000     0.040000     0.020000     0.000000  \n",
       "50%       2.410000     0.050000     0.080000     0.050000     0.000000  \n",
       "75%       4.670000     0.070000     0.240000     0.070000     0.000000  \n",
       "max       7.990000     0.100000     0.500000     0.090000     1.000000  \n",
       "\n",
       "[8 rows x 21 columns]"
      ]
     },
     "execution_count": 12,
     "metadata": {},
     "output_type": "execute_result"
    }
   ],
   "source": [
    "data.describe()"
   ]
  },
  {
   "cell_type": "markdown",
   "id": "c31204e5",
   "metadata": {},
   "source": [
    "Вычислим матрицу корреляции:"
   ]
  },
  {
   "cell_type": "code",
   "execution_count": 13,
   "id": "7cafe71f",
   "metadata": {},
   "outputs": [
    {
     "data": {
      "text/html": [
       "<div>\n",
       "<style scoped>\n",
       "    .dataframe tbody tr th:only-of-type {\n",
       "        vertical-align: middle;\n",
       "    }\n",
       "\n",
       "    .dataframe tbody tr th {\n",
       "        vertical-align: top;\n",
       "    }\n",
       "\n",
       "    .dataframe thead th {\n",
       "        text-align: right;\n",
       "    }\n",
       "</style>\n",
       "<table border=\"1\" class=\"dataframe\">\n",
       "  <thead>\n",
       "    <tr style=\"text-align: right;\">\n",
       "      <th></th>\n",
       "      <th>aluminium</th>\n",
       "      <th>ammonia</th>\n",
       "      <th>arsenic</th>\n",
       "      <th>barium</th>\n",
       "      <th>cadmium</th>\n",
       "      <th>chloramine</th>\n",
       "      <th>chromium</th>\n",
       "      <th>copper</th>\n",
       "      <th>flouride</th>\n",
       "      <th>bacteria</th>\n",
       "      <th>...</th>\n",
       "      <th>lead</th>\n",
       "      <th>nitrates</th>\n",
       "      <th>nitrites</th>\n",
       "      <th>mercury</th>\n",
       "      <th>perchlorate</th>\n",
       "      <th>radium</th>\n",
       "      <th>selenium</th>\n",
       "      <th>silver</th>\n",
       "      <th>uranium</th>\n",
       "      <th>is_safe</th>\n",
       "    </tr>\n",
       "  </thead>\n",
       "  <tbody>\n",
       "    <tr>\n",
       "      <th>aluminium</th>\n",
       "      <td>1.000000</td>\n",
       "      <td>0.067369</td>\n",
       "      <td>0.225725</td>\n",
       "      <td>0.294091</td>\n",
       "      <td>-0.099902</td>\n",
       "      <td>0.369221</td>\n",
       "      <td>0.353134</td>\n",
       "      <td>0.168569</td>\n",
       "      <td>-0.009877</td>\n",
       "      <td>-0.078324</td>\n",
       "      <td>...</td>\n",
       "      <td>0.020957</td>\n",
       "      <td>-0.003851</td>\n",
       "      <td>0.237439</td>\n",
       "      <td>-0.003129</td>\n",
       "      <td>0.362986</td>\n",
       "      <td>0.243396</td>\n",
       "      <td>-0.003651</td>\n",
       "      <td>0.334923</td>\n",
       "      <td>0.014723</td>\n",
       "      <td>0.333974</td>\n",
       "    </tr>\n",
       "    <tr>\n",
       "      <th>ammonia</th>\n",
       "      <td>0.067369</td>\n",
       "      <td>1.000000</td>\n",
       "      <td>0.046783</td>\n",
       "      <td>0.070099</td>\n",
       "      <td>-0.006422</td>\n",
       "      <td>0.104775</td>\n",
       "      <td>0.124782</td>\n",
       "      <td>0.015953</td>\n",
       "      <td>-0.028221</td>\n",
       "      <td>0.063603</td>\n",
       "      <td>...</td>\n",
       "      <td>-0.037065</td>\n",
       "      <td>0.006483</td>\n",
       "      <td>-0.063309</td>\n",
       "      <td>0.020884</td>\n",
       "      <td>0.090928</td>\n",
       "      <td>0.050401</td>\n",
       "      <td>0.029897</td>\n",
       "      <td>0.075547</td>\n",
       "      <td>0.014635</td>\n",
       "      <td>-0.022919</td>\n",
       "    </tr>\n",
       "    <tr>\n",
       "      <th>arsenic</th>\n",
       "      <td>0.225725</td>\n",
       "      <td>0.046783</td>\n",
       "      <td>1.000000</td>\n",
       "      <td>0.362925</td>\n",
       "      <td>0.334782</td>\n",
       "      <td>0.356509</td>\n",
       "      <td>0.312421</td>\n",
       "      <td>-0.036488</td>\n",
       "      <td>0.003731</td>\n",
       "      <td>0.035642</td>\n",
       "      <td>...</td>\n",
       "      <td>-0.087669</td>\n",
       "      <td>0.027533</td>\n",
       "      <td>0.305113</td>\n",
       "      <td>-0.015288</td>\n",
       "      <td>0.332228</td>\n",
       "      <td>0.218328</td>\n",
       "      <td>-0.006993</td>\n",
       "      <td>0.307794</td>\n",
       "      <td>0.001469</td>\n",
       "      <td>-0.123362</td>\n",
       "    </tr>\n",
       "    <tr>\n",
       "      <th>barium</th>\n",
       "      <td>0.294091</td>\n",
       "      <td>0.070099</td>\n",
       "      <td>0.362925</td>\n",
       "      <td>1.000000</td>\n",
       "      <td>-0.037901</td>\n",
       "      <td>0.446869</td>\n",
       "      <td>0.415937</td>\n",
       "      <td>0.065277</td>\n",
       "      <td>-0.018637</td>\n",
       "      <td>0.101304</td>\n",
       "      <td>...</td>\n",
       "      <td>-0.042829</td>\n",
       "      <td>-0.011423</td>\n",
       "      <td>0.312783</td>\n",
       "      <td>0.006165</td>\n",
       "      <td>0.462207</td>\n",
       "      <td>0.286890</td>\n",
       "      <td>0.035222</td>\n",
       "      <td>0.431542</td>\n",
       "      <td>-0.002541</td>\n",
       "      <td>0.090858</td>\n",
       "    </tr>\n",
       "    <tr>\n",
       "      <th>cadmium</th>\n",
       "      <td>-0.099902</td>\n",
       "      <td>-0.006422</td>\n",
       "      <td>0.334782</td>\n",
       "      <td>-0.037901</td>\n",
       "      <td>1.000000</td>\n",
       "      <td>-0.144366</td>\n",
       "      <td>-0.157716</td>\n",
       "      <td>-0.109252</td>\n",
       "      <td>0.005005</td>\n",
       "      <td>-0.092133</td>\n",
       "      <td>...</td>\n",
       "      <td>-0.035313</td>\n",
       "      <td>0.020232</td>\n",
       "      <td>-0.015829</td>\n",
       "      <td>-0.016169</td>\n",
       "      <td>-0.149269</td>\n",
       "      <td>-0.098936</td>\n",
       "      <td>0.009933</td>\n",
       "      <td>-0.155441</td>\n",
       "      <td>-0.005911</td>\n",
       "      <td>-0.256034</td>\n",
       "    </tr>\n",
       "    <tr>\n",
       "      <th>chloramine</th>\n",
       "      <td>0.369221</td>\n",
       "      <td>0.104775</td>\n",
       "      <td>0.356509</td>\n",
       "      <td>0.446869</td>\n",
       "      <td>-0.144366</td>\n",
       "      <td>1.000000</td>\n",
       "      <td>0.555846</td>\n",
       "      <td>0.118975</td>\n",
       "      <td>0.004254</td>\n",
       "      <td>0.154443</td>\n",
       "      <td>...</td>\n",
       "      <td>-0.030241</td>\n",
       "      <td>-0.001619</td>\n",
       "      <td>0.379916</td>\n",
       "      <td>-0.021198</td>\n",
       "      <td>0.588683</td>\n",
       "      <td>0.389119</td>\n",
       "      <td>0.011435</td>\n",
       "      <td>0.522372</td>\n",
       "      <td>-0.007648</td>\n",
       "      <td>0.186704</td>\n",
       "    </tr>\n",
       "    <tr>\n",
       "      <th>chromium</th>\n",
       "      <td>0.353134</td>\n",
       "      <td>0.124782</td>\n",
       "      <td>0.312421</td>\n",
       "      <td>0.415937</td>\n",
       "      <td>-0.157716</td>\n",
       "      <td>0.555846</td>\n",
       "      <td>1.000000</td>\n",
       "      <td>0.113003</td>\n",
       "      <td>-0.002424</td>\n",
       "      <td>0.141937</td>\n",
       "      <td>...</td>\n",
       "      <td>-0.050254</td>\n",
       "      <td>-0.012843</td>\n",
       "      <td>0.335940</td>\n",
       "      <td>-0.022541</td>\n",
       "      <td>0.524432</td>\n",
       "      <td>0.315484</td>\n",
       "      <td>0.030598</td>\n",
       "      <td>0.510705</td>\n",
       "      <td>-0.005472</td>\n",
       "      <td>0.182306</td>\n",
       "    </tr>\n",
       "    <tr>\n",
       "      <th>copper</th>\n",
       "      <td>0.168569</td>\n",
       "      <td>0.015953</td>\n",
       "      <td>-0.036488</td>\n",
       "      <td>0.065277</td>\n",
       "      <td>-0.109252</td>\n",
       "      <td>0.118975</td>\n",
       "      <td>0.113003</td>\n",
       "      <td>1.000000</td>\n",
       "      <td>0.011647</td>\n",
       "      <td>0.149271</td>\n",
       "      <td>...</td>\n",
       "      <td>0.121762</td>\n",
       "      <td>0.002259</td>\n",
       "      <td>0.162092</td>\n",
       "      <td>0.017785</td>\n",
       "      <td>0.104527</td>\n",
       "      <td>0.026534</td>\n",
       "      <td>-0.003356</td>\n",
       "      <td>0.089241</td>\n",
       "      <td>0.006802</td>\n",
       "      <td>0.029498</td>\n",
       "    </tr>\n",
       "    <tr>\n",
       "      <th>flouride</th>\n",
       "      <td>-0.009877</td>\n",
       "      <td>-0.028221</td>\n",
       "      <td>0.003731</td>\n",
       "      <td>-0.018637</td>\n",
       "      <td>0.005005</td>\n",
       "      <td>0.004254</td>\n",
       "      <td>-0.002424</td>\n",
       "      <td>0.011647</td>\n",
       "      <td>1.000000</td>\n",
       "      <td>0.013984</td>\n",
       "      <td>...</td>\n",
       "      <td>0.012146</td>\n",
       "      <td>-0.008245</td>\n",
       "      <td>-0.016591</td>\n",
       "      <td>-0.004263</td>\n",
       "      <td>-0.016352</td>\n",
       "      <td>0.007683</td>\n",
       "      <td>0.022726</td>\n",
       "      <td>0.014446</td>\n",
       "      <td>0.016849</td>\n",
       "      <td>0.006550</td>\n",
       "    </tr>\n",
       "    <tr>\n",
       "      <th>bacteria</th>\n",
       "      <td>-0.078324</td>\n",
       "      <td>0.063603</td>\n",
       "      <td>0.035642</td>\n",
       "      <td>0.101304</td>\n",
       "      <td>-0.092133</td>\n",
       "      <td>0.154443</td>\n",
       "      <td>0.141937</td>\n",
       "      <td>0.149271</td>\n",
       "      <td>0.013984</td>\n",
       "      <td>1.000000</td>\n",
       "      <td>...</td>\n",
       "      <td>-0.027179</td>\n",
       "      <td>-0.033993</td>\n",
       "      <td>0.246463</td>\n",
       "      <td>-0.004406</td>\n",
       "      <td>0.147526</td>\n",
       "      <td>0.099080</td>\n",
       "      <td>-0.006779</td>\n",
       "      <td>0.148199</td>\n",
       "      <td>0.045077</td>\n",
       "      <td>-0.022077</td>\n",
       "    </tr>\n",
       "    <tr>\n",
       "      <th>viruses</th>\n",
       "      <td>-0.071040</td>\n",
       "      <td>0.105856</td>\n",
       "      <td>0.011596</td>\n",
       "      <td>-0.002429</td>\n",
       "      <td>0.021255</td>\n",
       "      <td>0.003432</td>\n",
       "      <td>0.002193</td>\n",
       "      <td>0.006183</td>\n",
       "      <td>0.018261</td>\n",
       "      <td>0.618535</td>\n",
       "      <td>...</td>\n",
       "      <td>0.017886</td>\n",
       "      <td>-0.044621</td>\n",
       "      <td>-0.091364</td>\n",
       "      <td>0.011728</td>\n",
       "      <td>0.002965</td>\n",
       "      <td>-0.019955</td>\n",
       "      <td>-0.035013</td>\n",
       "      <td>0.011680</td>\n",
       "      <td>0.058473</td>\n",
       "      <td>-0.097040</td>\n",
       "    </tr>\n",
       "    <tr>\n",
       "      <th>lead</th>\n",
       "      <td>0.020957</td>\n",
       "      <td>-0.037065</td>\n",
       "      <td>-0.087669</td>\n",
       "      <td>-0.042829</td>\n",
       "      <td>-0.035313</td>\n",
       "      <td>-0.030241</td>\n",
       "      <td>-0.050254</td>\n",
       "      <td>0.121762</td>\n",
       "      <td>0.012146</td>\n",
       "      <td>-0.027179</td>\n",
       "      <td>...</td>\n",
       "      <td>1.000000</td>\n",
       "      <td>0.035095</td>\n",
       "      <td>-0.052656</td>\n",
       "      <td>-0.008073</td>\n",
       "      <td>-0.027426</td>\n",
       "      <td>-0.048623</td>\n",
       "      <td>0.031694</td>\n",
       "      <td>-0.057207</td>\n",
       "      <td>-0.009372</td>\n",
       "      <td>-0.009970</td>\n",
       "    </tr>\n",
       "    <tr>\n",
       "      <th>nitrates</th>\n",
       "      <td>-0.003851</td>\n",
       "      <td>0.006483</td>\n",
       "      <td>0.027533</td>\n",
       "      <td>-0.011423</td>\n",
       "      <td>0.020232</td>\n",
       "      <td>-0.001619</td>\n",
       "      <td>-0.012843</td>\n",
       "      <td>0.002259</td>\n",
       "      <td>-0.008245</td>\n",
       "      <td>-0.033993</td>\n",
       "      <td>...</td>\n",
       "      <td>0.035095</td>\n",
       "      <td>1.000000</td>\n",
       "      <td>0.016898</td>\n",
       "      <td>-0.020429</td>\n",
       "      <td>-0.014091</td>\n",
       "      <td>-0.021406</td>\n",
       "      <td>0.043180</td>\n",
       "      <td>0.005149</td>\n",
       "      <td>0.000795</td>\n",
       "      <td>-0.072100</td>\n",
       "    </tr>\n",
       "    <tr>\n",
       "      <th>nitrites</th>\n",
       "      <td>0.237439</td>\n",
       "      <td>-0.063309</td>\n",
       "      <td>0.305113</td>\n",
       "      <td>0.312783</td>\n",
       "      <td>-0.015829</td>\n",
       "      <td>0.379916</td>\n",
       "      <td>0.335940</td>\n",
       "      <td>0.162092</td>\n",
       "      <td>-0.016591</td>\n",
       "      <td>0.246463</td>\n",
       "      <td>...</td>\n",
       "      <td>-0.052656</td>\n",
       "      <td>0.016898</td>\n",
       "      <td>1.000000</td>\n",
       "      <td>-0.016936</td>\n",
       "      <td>0.346407</td>\n",
       "      <td>0.272939</td>\n",
       "      <td>0.012100</td>\n",
       "      <td>0.332877</td>\n",
       "      <td>-0.010035</td>\n",
       "      <td>0.046986</td>\n",
       "    </tr>\n",
       "    <tr>\n",
       "      <th>mercury</th>\n",
       "      <td>-0.003129</td>\n",
       "      <td>0.020884</td>\n",
       "      <td>-0.015288</td>\n",
       "      <td>0.006165</td>\n",
       "      <td>-0.016169</td>\n",
       "      <td>-0.021198</td>\n",
       "      <td>-0.022541</td>\n",
       "      <td>0.017785</td>\n",
       "      <td>-0.004263</td>\n",
       "      <td>-0.004406</td>\n",
       "      <td>...</td>\n",
       "      <td>-0.008073</td>\n",
       "      <td>-0.020429</td>\n",
       "      <td>-0.016936</td>\n",
       "      <td>1.000000</td>\n",
       "      <td>0.006356</td>\n",
       "      <td>0.032427</td>\n",
       "      <td>0.034659</td>\n",
       "      <td>0.006304</td>\n",
       "      <td>0.031733</td>\n",
       "      <td>-0.036817</td>\n",
       "    </tr>\n",
       "    <tr>\n",
       "      <th>perchlorate</th>\n",
       "      <td>0.362986</td>\n",
       "      <td>0.090928</td>\n",
       "      <td>0.332228</td>\n",
       "      <td>0.462207</td>\n",
       "      <td>-0.149269</td>\n",
       "      <td>0.588683</td>\n",
       "      <td>0.524432</td>\n",
       "      <td>0.104527</td>\n",
       "      <td>-0.016352</td>\n",
       "      <td>0.147526</td>\n",
       "      <td>...</td>\n",
       "      <td>-0.027426</td>\n",
       "      <td>-0.014091</td>\n",
       "      <td>0.346407</td>\n",
       "      <td>0.006356</td>\n",
       "      <td>1.000000</td>\n",
       "      <td>0.373242</td>\n",
       "      <td>0.014517</td>\n",
       "      <td>0.504539</td>\n",
       "      <td>0.000981</td>\n",
       "      <td>0.075735</td>\n",
       "    </tr>\n",
       "    <tr>\n",
       "      <th>radium</th>\n",
       "      <td>0.243396</td>\n",
       "      <td>0.050401</td>\n",
       "      <td>0.218328</td>\n",
       "      <td>0.286890</td>\n",
       "      <td>-0.098936</td>\n",
       "      <td>0.389119</td>\n",
       "      <td>0.315484</td>\n",
       "      <td>0.026534</td>\n",
       "      <td>0.007683</td>\n",
       "      <td>0.099080</td>\n",
       "      <td>...</td>\n",
       "      <td>-0.048623</td>\n",
       "      <td>-0.021406</td>\n",
       "      <td>0.272939</td>\n",
       "      <td>0.032427</td>\n",
       "      <td>0.373242</td>\n",
       "      <td>1.000000</td>\n",
       "      <td>0.028467</td>\n",
       "      <td>0.354273</td>\n",
       "      <td>0.020565</td>\n",
       "      <td>0.064743</td>\n",
       "    </tr>\n",
       "    <tr>\n",
       "      <th>selenium</th>\n",
       "      <td>-0.003651</td>\n",
       "      <td>0.029897</td>\n",
       "      <td>-0.006993</td>\n",
       "      <td>0.035222</td>\n",
       "      <td>0.009933</td>\n",
       "      <td>0.011435</td>\n",
       "      <td>0.030598</td>\n",
       "      <td>-0.003356</td>\n",
       "      <td>0.022726</td>\n",
       "      <td>-0.006779</td>\n",
       "      <td>...</td>\n",
       "      <td>0.031694</td>\n",
       "      <td>0.043180</td>\n",
       "      <td>0.012100</td>\n",
       "      <td>0.034659</td>\n",
       "      <td>0.014517</td>\n",
       "      <td>0.028467</td>\n",
       "      <td>1.000000</td>\n",
       "      <td>-0.019951</td>\n",
       "      <td>-0.022276</td>\n",
       "      <td>-0.030923</td>\n",
       "    </tr>\n",
       "    <tr>\n",
       "      <th>silver</th>\n",
       "      <td>0.334923</td>\n",
       "      <td>0.075547</td>\n",
       "      <td>0.307794</td>\n",
       "      <td>0.431542</td>\n",
       "      <td>-0.155441</td>\n",
       "      <td>0.522372</td>\n",
       "      <td>0.510705</td>\n",
       "      <td>0.089241</td>\n",
       "      <td>0.014446</td>\n",
       "      <td>0.148199</td>\n",
       "      <td>...</td>\n",
       "      <td>-0.057207</td>\n",
       "      <td>0.005149</td>\n",
       "      <td>0.332877</td>\n",
       "      <td>0.006304</td>\n",
       "      <td>0.504539</td>\n",
       "      <td>0.354273</td>\n",
       "      <td>-0.019951</td>\n",
       "      <td>1.000000</td>\n",
       "      <td>0.008133</td>\n",
       "      <td>0.102813</td>\n",
       "    </tr>\n",
       "    <tr>\n",
       "      <th>uranium</th>\n",
       "      <td>0.014723</td>\n",
       "      <td>0.014635</td>\n",
       "      <td>0.001469</td>\n",
       "      <td>-0.002541</td>\n",
       "      <td>-0.005911</td>\n",
       "      <td>-0.007648</td>\n",
       "      <td>-0.005472</td>\n",
       "      <td>0.006802</td>\n",
       "      <td>0.016849</td>\n",
       "      <td>0.045077</td>\n",
       "      <td>...</td>\n",
       "      <td>-0.009372</td>\n",
       "      <td>0.000795</td>\n",
       "      <td>-0.010035</td>\n",
       "      <td>0.031733</td>\n",
       "      <td>0.000981</td>\n",
       "      <td>0.020565</td>\n",
       "      <td>-0.022276</td>\n",
       "      <td>0.008133</td>\n",
       "      <td>1.000000</td>\n",
       "      <td>-0.075619</td>\n",
       "    </tr>\n",
       "    <tr>\n",
       "      <th>is_safe</th>\n",
       "      <td>0.333974</td>\n",
       "      <td>-0.022919</td>\n",
       "      <td>-0.123362</td>\n",
       "      <td>0.090858</td>\n",
       "      <td>-0.256034</td>\n",
       "      <td>0.186704</td>\n",
       "      <td>0.182306</td>\n",
       "      <td>0.029498</td>\n",
       "      <td>0.006550</td>\n",
       "      <td>-0.022077</td>\n",
       "      <td>...</td>\n",
       "      <td>-0.009970</td>\n",
       "      <td>-0.072100</td>\n",
       "      <td>0.046986</td>\n",
       "      <td>-0.036817</td>\n",
       "      <td>0.075735</td>\n",
       "      <td>0.064743</td>\n",
       "      <td>-0.030923</td>\n",
       "      <td>0.102813</td>\n",
       "      <td>-0.075619</td>\n",
       "      <td>1.000000</td>\n",
       "    </tr>\n",
       "  </tbody>\n",
       "</table>\n",
       "<p>21 rows × 21 columns</p>\n",
       "</div>"
      ],
      "text/plain": [
       "             aluminium   ammonia   arsenic    barium   cadmium  chloramine  \\\n",
       "aluminium     1.000000  0.067369  0.225725  0.294091 -0.099902    0.369221   \n",
       "ammonia       0.067369  1.000000  0.046783  0.070099 -0.006422    0.104775   \n",
       "arsenic       0.225725  0.046783  1.000000  0.362925  0.334782    0.356509   \n",
       "barium        0.294091  0.070099  0.362925  1.000000 -0.037901    0.446869   \n",
       "cadmium      -0.099902 -0.006422  0.334782 -0.037901  1.000000   -0.144366   \n",
       "chloramine    0.369221  0.104775  0.356509  0.446869 -0.144366    1.000000   \n",
       "chromium      0.353134  0.124782  0.312421  0.415937 -0.157716    0.555846   \n",
       "copper        0.168569  0.015953 -0.036488  0.065277 -0.109252    0.118975   \n",
       "flouride     -0.009877 -0.028221  0.003731 -0.018637  0.005005    0.004254   \n",
       "bacteria     -0.078324  0.063603  0.035642  0.101304 -0.092133    0.154443   \n",
       "viruses      -0.071040  0.105856  0.011596 -0.002429  0.021255    0.003432   \n",
       "lead          0.020957 -0.037065 -0.087669 -0.042829 -0.035313   -0.030241   \n",
       "nitrates     -0.003851  0.006483  0.027533 -0.011423  0.020232   -0.001619   \n",
       "nitrites      0.237439 -0.063309  0.305113  0.312783 -0.015829    0.379916   \n",
       "mercury      -0.003129  0.020884 -0.015288  0.006165 -0.016169   -0.021198   \n",
       "perchlorate   0.362986  0.090928  0.332228  0.462207 -0.149269    0.588683   \n",
       "radium        0.243396  0.050401  0.218328  0.286890 -0.098936    0.389119   \n",
       "selenium     -0.003651  0.029897 -0.006993  0.035222  0.009933    0.011435   \n",
       "silver        0.334923  0.075547  0.307794  0.431542 -0.155441    0.522372   \n",
       "uranium       0.014723  0.014635  0.001469 -0.002541 -0.005911   -0.007648   \n",
       "is_safe       0.333974 -0.022919 -0.123362  0.090858 -0.256034    0.186704   \n",
       "\n",
       "             chromium    copper  flouride  bacteria  ...      lead  nitrates  \\\n",
       "aluminium    0.353134  0.168569 -0.009877 -0.078324  ...  0.020957 -0.003851   \n",
       "ammonia      0.124782  0.015953 -0.028221  0.063603  ... -0.037065  0.006483   \n",
       "arsenic      0.312421 -0.036488  0.003731  0.035642  ... -0.087669  0.027533   \n",
       "barium       0.415937  0.065277 -0.018637  0.101304  ... -0.042829 -0.011423   \n",
       "cadmium     -0.157716 -0.109252  0.005005 -0.092133  ... -0.035313  0.020232   \n",
       "chloramine   0.555846  0.118975  0.004254  0.154443  ... -0.030241 -0.001619   \n",
       "chromium     1.000000  0.113003 -0.002424  0.141937  ... -0.050254 -0.012843   \n",
       "copper       0.113003  1.000000  0.011647  0.149271  ...  0.121762  0.002259   \n",
       "flouride    -0.002424  0.011647  1.000000  0.013984  ...  0.012146 -0.008245   \n",
       "bacteria     0.141937  0.149271  0.013984  1.000000  ... -0.027179 -0.033993   \n",
       "viruses      0.002193  0.006183  0.018261  0.618535  ...  0.017886 -0.044621   \n",
       "lead        -0.050254  0.121762  0.012146 -0.027179  ...  1.000000  0.035095   \n",
       "nitrates    -0.012843  0.002259 -0.008245 -0.033993  ...  0.035095  1.000000   \n",
       "nitrites     0.335940  0.162092 -0.016591  0.246463  ... -0.052656  0.016898   \n",
       "mercury     -0.022541  0.017785 -0.004263 -0.004406  ... -0.008073 -0.020429   \n",
       "perchlorate  0.524432  0.104527 -0.016352  0.147526  ... -0.027426 -0.014091   \n",
       "radium       0.315484  0.026534  0.007683  0.099080  ... -0.048623 -0.021406   \n",
       "selenium     0.030598 -0.003356  0.022726 -0.006779  ...  0.031694  0.043180   \n",
       "silver       0.510705  0.089241  0.014446  0.148199  ... -0.057207  0.005149   \n",
       "uranium     -0.005472  0.006802  0.016849  0.045077  ... -0.009372  0.000795   \n",
       "is_safe      0.182306  0.029498  0.006550 -0.022077  ... -0.009970 -0.072100   \n",
       "\n",
       "             nitrites   mercury  perchlorate    radium  selenium    silver  \\\n",
       "aluminium    0.237439 -0.003129     0.362986  0.243396 -0.003651  0.334923   \n",
       "ammonia     -0.063309  0.020884     0.090928  0.050401  0.029897  0.075547   \n",
       "arsenic      0.305113 -0.015288     0.332228  0.218328 -0.006993  0.307794   \n",
       "barium       0.312783  0.006165     0.462207  0.286890  0.035222  0.431542   \n",
       "cadmium     -0.015829 -0.016169    -0.149269 -0.098936  0.009933 -0.155441   \n",
       "chloramine   0.379916 -0.021198     0.588683  0.389119  0.011435  0.522372   \n",
       "chromium     0.335940 -0.022541     0.524432  0.315484  0.030598  0.510705   \n",
       "copper       0.162092  0.017785     0.104527  0.026534 -0.003356  0.089241   \n",
       "flouride    -0.016591 -0.004263    -0.016352  0.007683  0.022726  0.014446   \n",
       "bacteria     0.246463 -0.004406     0.147526  0.099080 -0.006779  0.148199   \n",
       "viruses     -0.091364  0.011728     0.002965 -0.019955 -0.035013  0.011680   \n",
       "lead        -0.052656 -0.008073    -0.027426 -0.048623  0.031694 -0.057207   \n",
       "nitrates     0.016898 -0.020429    -0.014091 -0.021406  0.043180  0.005149   \n",
       "nitrites     1.000000 -0.016936     0.346407  0.272939  0.012100  0.332877   \n",
       "mercury     -0.016936  1.000000     0.006356  0.032427  0.034659  0.006304   \n",
       "perchlorate  0.346407  0.006356     1.000000  0.373242  0.014517  0.504539   \n",
       "radium       0.272939  0.032427     0.373242  1.000000  0.028467  0.354273   \n",
       "selenium     0.012100  0.034659     0.014517  0.028467  1.000000 -0.019951   \n",
       "silver       0.332877  0.006304     0.504539  0.354273 -0.019951  1.000000   \n",
       "uranium     -0.010035  0.031733     0.000981  0.020565 -0.022276  0.008133   \n",
       "is_safe      0.046986 -0.036817     0.075735  0.064743 -0.030923  0.102813   \n",
       "\n",
       "              uranium   is_safe  \n",
       "aluminium    0.014723  0.333974  \n",
       "ammonia      0.014635 -0.022919  \n",
       "arsenic      0.001469 -0.123362  \n",
       "barium      -0.002541  0.090858  \n",
       "cadmium     -0.005911 -0.256034  \n",
       "chloramine  -0.007648  0.186704  \n",
       "chromium    -0.005472  0.182306  \n",
       "copper       0.006802  0.029498  \n",
       "flouride     0.016849  0.006550  \n",
       "bacteria     0.045077 -0.022077  \n",
       "viruses      0.058473 -0.097040  \n",
       "lead        -0.009372 -0.009970  \n",
       "nitrates     0.000795 -0.072100  \n",
       "nitrites    -0.010035  0.046986  \n",
       "mercury      0.031733 -0.036817  \n",
       "perchlorate  0.000981  0.075735  \n",
       "radium       0.020565  0.064743  \n",
       "selenium    -0.022276 -0.030923  \n",
       "silver       0.008133  0.102813  \n",
       "uranium      1.000000 -0.075619  \n",
       "is_safe     -0.075619  1.000000  \n",
       "\n",
       "[21 rows x 21 columns]"
      ]
     },
     "execution_count": 13,
     "metadata": {},
     "output_type": "execute_result"
    }
   ],
   "source": [
    "corr_mat = data.corr()\n",
    "corr_mat"
   ]
  },
  {
   "cell_type": "code",
   "execution_count": 14,
   "id": "97a0f46c",
   "metadata": {},
   "outputs": [
    {
     "data": {
      "image/png": "[encoded data removed]",
      "text/plain": [
       "<Figure size 432x288 with 2 Axes>"
      ]
     },
     "metadata": {
      "needs_background": "light"
     },
     "output_type": "display_data"
    }
   ],
   "source": [
    "sns.heatmap(corr_mat, square=True, vmin=-1, vmax=1, cmap='coolwarm')\n",
    "pass"
   ]
  },
  {
   "cell_type": "code",
   "execution_count": 15,
   "id": "3bafa394",
   "metadata": {},
   "outputs": [
    {
     "data": {
      "text/plain": [
       "bacteria     viruses        0.618535\n",
       "chloramine   perchlorate    0.588683\n",
       "             chromium       0.555846\n",
       "chromium     perchlorate    0.524432\n",
       "chloramine   silver         0.522372\n",
       "chromium     silver         0.510705\n",
       "perchlorate  silver         0.504539\n",
       "dtype: float64"
      ]
     },
     "execution_count": 15,
     "metadata": {},
     "output_type": "execute_result"
    }
   ],
   "source": [
    "corr_mat.where(np.triu(corr_mat > 0.5, k=1)).stack().sort_values(ascending=False)"
   ]
  },
  {
   "cell_type": "markdown",
   "id": "0d62146f",
   "metadata": {},
   "source": [
    "В данном случае существует корреляция между содержанием бактерий и вирусов в пробе. Вероятно, чем грязнее вода, тем выше в ней содержание обоих признаков."
   ]
  },
  {
   "cell_type": "code",
   "execution_count": 22,
   "id": "7d68214b",
   "metadata": {},
   "outputs": [
    {
     "data": {
      "image/png": "[encoded data removed]",
      "text/plain": [
       "<Figure size 432x288 with 1 Axes>"
      ]
     },
     "metadata": {
      "needs_background": "light"
     },
     "output_type": "display_data"
    }
   ],
   "source": [
    "plt.scatter(data['bacteria'], data['viruses'], alpha=0.01)\n",
    "plt.xlabel('bacteria')\n",
    "plt.ylabel('viruses')\n",
    "pass"
   ]
  },
  {
   "cell_type": "markdown",
   "id": "3cd92252",
   "metadata": {},
   "source": [
    "## 5. Нормализация"
   ]
  },
  {
   "cell_type": "code",
   "execution_count": 25,
   "id": "2a32808d",
   "metadata": {},
   "outputs": [
    {
     "data": {
      "text/html": [
       "<div>\n",
       "<style scoped>\n",
       "    .dataframe tbody tr th:only-of-type {\n",
       "        vertical-align: middle;\n",
       "    }\n",
       "\n",
       "    .dataframe tbody tr th {\n",
       "        vertical-align: top;\n",
       "    }\n",
       "\n",
       "    .dataframe thead th {\n",
       "        text-align: right;\n",
       "    }\n",
       "</style>\n",
       "<table border=\"1\" class=\"dataframe\">\n",
       "  <thead>\n",
       "    <tr style=\"text-align: right;\">\n",
       "      <th></th>\n",
       "      <th>aluminium</th>\n",
       "      <th>ammonia</th>\n",
       "      <th>arsenic</th>\n",
       "      <th>barium</th>\n",
       "      <th>cadmium</th>\n",
       "      <th>chloramine</th>\n",
       "      <th>chromium</th>\n",
       "      <th>copper</th>\n",
       "      <th>flouride</th>\n",
       "      <th>bacteria</th>\n",
       "      <th>...</th>\n",
       "      <th>lead</th>\n",
       "      <th>nitrates</th>\n",
       "      <th>nitrites</th>\n",
       "      <th>mercury</th>\n",
       "      <th>perchlorate</th>\n",
       "      <th>radium</th>\n",
       "      <th>selenium</th>\n",
       "      <th>silver</th>\n",
       "      <th>uranium</th>\n",
       "      <th>is_safe</th>\n",
       "    </tr>\n",
       "  </thead>\n",
       "  <tbody>\n",
       "    <tr>\n",
       "      <th>count</th>\n",
       "      <td>7.996000e+03</td>\n",
       "      <td>7.996000e+03</td>\n",
       "      <td>7.996000e+03</td>\n",
       "      <td>7.996000e+03</td>\n",
       "      <td>7.996000e+03</td>\n",
       "      <td>7996.000000</td>\n",
       "      <td>7.996000e+03</td>\n",
       "      <td>7.996000e+03</td>\n",
       "      <td>7.996000e+03</td>\n",
       "      <td>7.996000e+03</td>\n",
       "      <td>...</td>\n",
       "      <td>7.996000e+03</td>\n",
       "      <td>7.996000e+03</td>\n",
       "      <td>7.996000e+03</td>\n",
       "      <td>7.996000e+03</td>\n",
       "      <td>7.996000e+03</td>\n",
       "      <td>7.996000e+03</td>\n",
       "      <td>7.996000e+03</td>\n",
       "      <td>7.996000e+03</td>\n",
       "      <td>7.996000e+03</td>\n",
       "      <td>7.996000e+03</td>\n",
       "    </tr>\n",
       "    <tr>\n",
       "      <th>mean</th>\n",
       "      <td>-1.421796e-16</td>\n",
       "      <td>1.706156e-16</td>\n",
       "      <td>-5.687185e-17</td>\n",
       "      <td>-1.137437e-16</td>\n",
       "      <td>-2.701413e-16</td>\n",
       "      <td>0.000000</td>\n",
       "      <td>-1.137437e-16</td>\n",
       "      <td>-8.530778e-17</td>\n",
       "      <td>1.315162e-16</td>\n",
       "      <td>1.848335e-16</td>\n",
       "      <td>...</td>\n",
       "      <td>1.777245e-16</td>\n",
       "      <td>1.270731e-16</td>\n",
       "      <td>1.421796e-16</td>\n",
       "      <td>-1.866108e-17</td>\n",
       "      <td>1.706156e-16</td>\n",
       "      <td>-8.530778e-17</td>\n",
       "      <td>-3.776647e-17</td>\n",
       "      <td>-1.706156e-16</td>\n",
       "      <td>-1.550647e-16</td>\n",
       "      <td>8.530778e-17</td>\n",
       "    </tr>\n",
       "    <tr>\n",
       "      <th>std</th>\n",
       "      <td>1.000000e+00</td>\n",
       "      <td>1.000000e+00</td>\n",
       "      <td>1.000000e+00</td>\n",
       "      <td>1.000000e+00</td>\n",
       "      <td>1.000000e+00</td>\n",
       "      <td>1.000000</td>\n",
       "      <td>1.000000e+00</td>\n",
       "      <td>1.000000e+00</td>\n",
       "      <td>1.000000e+00</td>\n",
       "      <td>1.000000e+00</td>\n",
       "      <td>...</td>\n",
       "      <td>1.000000e+00</td>\n",
       "      <td>1.000000e+00</td>\n",
       "      <td>1.000000e+00</td>\n",
       "      <td>1.000000e+00</td>\n",
       "      <td>1.000000e+00</td>\n",
       "      <td>1.000000e+00</td>\n",
       "      <td>1.000000e+00</td>\n",
       "      <td>1.000000e+00</td>\n",
       "      <td>1.000000e+00</td>\n",
       "      <td>1.000000e+00</td>\n",
       "    </tr>\n",
       "    <tr>\n",
       "      <th>min</th>\n",
       "      <td>-5.266605e-01</td>\n",
       "      <td>-1.617111e+00</td>\n",
       "      <td>-6.391775e-01</td>\n",
       "      <td>-1.289173e+00</td>\n",
       "      <td>-1.187357e+00</td>\n",
       "      <td>-0.848232</td>\n",
       "      <td>-9.136804e-01</td>\n",
       "      <td>-1.233089e+00</td>\n",
       "      <td>-1.772174e+00</td>\n",
       "      <td>-9.703093e-01</td>\n",
       "      <td>...</td>\n",
       "      <td>-1.709359e+00</td>\n",
       "      <td>-1.771796e+00</td>\n",
       "      <td>-2.319752e+00</td>\n",
       "      <td>-1.750033e+00</td>\n",
       "      <td>-9.308286e-01</td>\n",
       "      <td>-1.257146e+00</td>\n",
       "      <td>-1.726723e+00</td>\n",
       "      <td>-1.029552e+00</td>\n",
       "      <td>-1.660312e+00</td>\n",
       "      <td>-3.587823e-01</td>\n",
       "    </tr>\n",
       "    <tr>\n",
       "      <th>25%</th>\n",
       "      <td>-4.950480e-01</td>\n",
       "      <td>-8.673017e-01</td>\n",
       "      <td>-5.204279e-01</td>\n",
       "      <td>-8.287330e-01</td>\n",
       "      <td>-9.654388e-01</td>\n",
       "      <td>-0.809279</td>\n",
       "      <td>-7.289491e-01</td>\n",
       "      <td>-1.095389e+00</td>\n",
       "      <td>-8.363028e-01</td>\n",
       "      <td>-9.703093e-01</td>\n",
       "      <td>...</td>\n",
       "      <td>-8.841699e-01</td>\n",
       "      <td>-8.695904e-01</td>\n",
       "      <td>-5.753758e-01</td>\n",
       "      <td>-7.389592e-01</td>\n",
       "      <td>-8.081523e-01</td>\n",
       "      <td>-9.041251e-01</td>\n",
       "      <td>-1.031635e+00</td>\n",
       "      <td>-7.509395e-01</td>\n",
       "      <td>-9.169828e-01</td>\n",
       "      <td>-3.587823e-01</td>\n",
       "    </tr>\n",
       "    <tr>\n",
       "      <th>50%</th>\n",
       "      <td>-4.713387e-01</td>\n",
       "      <td>-1.669251e-02</td>\n",
       "      <td>-4.412615e-01</td>\n",
       "      <td>-3.107377e-01</td>\n",
       "      <td>-7.776576e-02</td>\n",
       "      <td>-0.641782</td>\n",
       "      <td>-5.811641e-01</td>\n",
       "      <td>-8.558893e-02</td>\n",
       "      <td>-3.779822e-03</td>\n",
       "      <td>-3.026241e-01</td>\n",
       "      <td>...</td>\n",
       "      <td>4.416754e-02</td>\n",
       "      <td>1.998391e-02</td>\n",
       "      <td>1.572622e-01</td>\n",
       "      <td>-6.490972e-02</td>\n",
       "      <td>-4.929816e-01</td>\n",
       "      <td>-2.196079e-01</td>\n",
       "      <td>1.099658e-02</td>\n",
       "      <td>-4.723272e-01</td>\n",
       "      <td>1.980103e-01</td>\n",
       "      <td>-3.587823e-01</td>\n",
       "    </tr>\n",
       "    <tr>\n",
       "      <th>75%</th>\n",
       "      <td>-3.053731e-01</td>\n",
       "      <td>8.845985e-01</td>\n",
       "      <td>-2.433455e-01</td>\n",
       "      <td>7.519748e-01</td>\n",
       "      <td>7.544278e-01</td>\n",
       "      <td>0.803367</td>\n",
       "      <td>7.119546e-01</td>\n",
       "      <td>8.936112e-01</td>\n",
       "      <td>8.919001e-01</td>\n",
       "      <td>8.809997e-01</td>\n",
       "      <td>...</td>\n",
       "      <td>8.865478e-01</td>\n",
       "      <td>8.644480e-01</td>\n",
       "      <td>7.503501e-01</td>\n",
       "      <td>9.461645e-01</td>\n",
       "      <td>7.361841e-01</td>\n",
       "      <td>7.533536e-01</td>\n",
       "      <td>7.060846e-01</td>\n",
       "      <td>6.421218e-01</td>\n",
       "      <td>9.413390e-01</td>\n",
       "      <td>-3.587823e-01</td>\n",
       "    </tr>\n",
       "    <tr>\n",
       "      <th>max</th>\n",
       "      <td>3.464415e+00</td>\n",
       "      <td>1.752665e+00</td>\n",
       "      <td>3.517058e+00</td>\n",
       "      <td>2.772567e+00</td>\n",
       "      <td>2.418815e+00</td>\n",
       "      <td>2.532871</td>\n",
       "      <td>2.411482e+00</td>\n",
       "      <td>1.826911e+00</td>\n",
       "      <td>1.672749e+00</td>\n",
       "      <td>2.064623e+00</td>\n",
       "      <td>...</td>\n",
       "      <td>1.728928e+00</td>\n",
       "      <td>1.806350e+00</td>\n",
       "      <td>2.791270e+00</td>\n",
       "      <td>1.620214e+00</td>\n",
       "      <td>2.461708e+00</td>\n",
       "      <td>2.182660e+00</td>\n",
       "      <td>1.748717e+00</td>\n",
       "      <td>2.453102e+00</td>\n",
       "      <td>1.684668e+00</td>\n",
       "      <td>2.786857e+00</td>\n",
       "    </tr>\n",
       "  </tbody>\n",
       "</table>\n",
       "<p>8 rows × 21 columns</p>\n",
       "</div>"
      ],
      "text/plain": [
       "          aluminium       ammonia       arsenic        barium       cadmium  \\\n",
       "count  7.996000e+03  7.996000e+03  7.996000e+03  7.996000e+03  7.996000e+03   \n",
       "mean  -1.421796e-16  1.706156e-16 -5.687185e-17 -1.137437e-16 -2.701413e-16   \n",
       "std    1.000000e+00  1.000000e+00  1.000000e+00  1.000000e+00  1.000000e+00   \n",
       "min   -5.266605e-01 -1.617111e+00 -6.391775e-01 -1.289173e+00 -1.187357e+00   \n",
       "25%   -4.950480e-01 -8.673017e-01 -5.204279e-01 -8.287330e-01 -9.654388e-01   \n",
       "50%   -4.713387e-01 -1.669251e-02 -4.412615e-01 -3.107377e-01 -7.776576e-02   \n",
       "75%   -3.053731e-01  8.845985e-01 -2.433455e-01  7.519748e-01  7.544278e-01   \n",
       "max    3.464415e+00  1.752665e+00  3.517058e+00  2.772567e+00  2.418815e+00   \n",
       "\n",
       "        chloramine      chromium        copper      flouride      bacteria  \\\n",
       "count  7996.000000  7.996000e+03  7.996000e+03  7.996000e+03  7.996000e+03   \n",
       "mean      0.000000 -1.137437e-16 -8.530778e-17  1.315162e-16  1.848335e-16   \n",
       "std       1.000000  1.000000e+00  1.000000e+00  1.000000e+00  1.000000e+00   \n",
       "min      -0.848232 -9.136804e-01 -1.233089e+00 -1.772174e+00 -9.703093e-01   \n",
       "25%      -0.809279 -7.289491e-01 -1.095389e+00 -8.363028e-01 -9.703093e-01   \n",
       "50%      -0.641782 -5.811641e-01 -8.558893e-02 -3.779822e-03 -3.026241e-01   \n",
       "75%       0.803367  7.119546e-01  8.936112e-01  8.919001e-01  8.809997e-01   \n",
       "max       2.532871  2.411482e+00  1.826911e+00  1.672749e+00  2.064623e+00   \n",
       "\n",
       "       ...          lead      nitrates      nitrites       mercury  \\\n",
       "count  ...  7.996000e+03  7.996000e+03  7.996000e+03  7.996000e+03   \n",
       "mean   ...  1.777245e-16  1.270731e-16  1.421796e-16 -1.866108e-17   \n",
       "std    ...  1.000000e+00  1.000000e+00  1.000000e+00  1.000000e+00   \n",
       "min    ... -1.709359e+00 -1.771796e+00 -2.319752e+00 -1.750033e+00   \n",
       "25%    ... -8.841699e-01 -8.695904e-01 -5.753758e-01 -7.389592e-01   \n",
       "50%    ...  4.416754e-02  1.998391e-02  1.572622e-01 -6.490972e-02   \n",
       "75%    ...  8.865478e-01  8.644480e-01  7.503501e-01  9.461645e-01   \n",
       "max    ...  1.728928e+00  1.806350e+00  2.791270e+00  1.620214e+00   \n",
       "\n",
       "        perchlorate        radium      selenium        silver       uranium  \\\n",
       "count  7.996000e+03  7.996000e+03  7.996000e+03  7.996000e+03  7.996000e+03   \n",
       "mean   1.706156e-16 -8.530778e-17 -3.776647e-17 -1.706156e-16 -1.550647e-16   \n",
       "std    1.000000e+00  1.000000e+00  1.000000e+00  1.000000e+00  1.000000e+00   \n",
       "min   -9.308286e-01 -1.257146e+00 -1.726723e+00 -1.029552e+00 -1.660312e+00   \n",
       "25%   -8.081523e-01 -9.041251e-01 -1.031635e+00 -7.509395e-01 -9.169828e-01   \n",
       "50%   -4.929816e-01 -2.196079e-01  1.099658e-02 -4.723272e-01  1.980103e-01   \n",
       "75%    7.361841e-01  7.533536e-01  7.060846e-01  6.421218e-01  9.413390e-01   \n",
       "max    2.461708e+00  2.182660e+00  1.748717e+00  2.453102e+00  1.684668e+00   \n",
       "\n",
       "            is_safe  \n",
       "count  7.996000e+03  \n",
       "mean   8.530778e-17  \n",
       "std    1.000000e+00  \n",
       "min   -3.587823e-01  \n",
       "25%   -3.587823e-01  \n",
       "50%   -3.587823e-01  \n",
       "75%   -3.587823e-01  \n",
       "max    2.786857e+00  \n",
       "\n",
       "[8 rows x 21 columns]"
      ]
     },
     "execution_count": 25,
     "metadata": {},
     "output_type": "execute_result"
    }
   ],
   "source": [
    "data_stand = (data - data.mean(axis = 0))/data.std(axis = 0)\n",
    "data_stand.describe()"
   ]
  },
  {
   "cell_type": "markdown",
   "id": "158bded3",
   "metadata": {},
   "source": [
    "## 6. Разбиение данных на обучающую и тестовую выборки"
   ]
  },
  {
   "cell_type": "code",
   "execution_count": 26,
   "id": "d59916e6",
   "metadata": {},
   "outputs": [],
   "source": [
    "X = data_stand.drop(['is_safe'], axis=1)\n",
    "y = data['is_safe']"
   ]
  },
  {
   "cell_type": "code",
   "execution_count": 27,
   "id": "d245e83f",
   "metadata": {},
   "outputs": [
    {
     "data": {
      "text/plain": [
       "(5997, 1999)"
      ]
     },
     "execution_count": 27,
     "metadata": {},
     "output_type": "execute_result"
    }
   ],
   "source": [
    "from sklearn.model_selection import train_test_split\n",
    "X_train, X_test, y_train, y_test = train_test_split(X, y, test_size = 0.25, random_state = 42)\n",
    "\n",
    "N_train, _ = X_train.shape \n",
    "N_test,  _ = X_test.shape \n",
    "\n",
    "N_train, N_test"
   ]
  },
  {
   "cell_type": "markdown",
   "id": "8b09e048",
   "metadata": {},
   "source": [
    "## 7. Классификация методом ближайших соседей"
   ]
  },
  {
   "cell_type": "code",
   "execution_count": 28,
   "id": "bb64f369",
   "metadata": {
    "scrolled": true
   },
   "outputs": [
    {
     "data": {
      "text/plain": [
       "KNeighborsClassifier()"
      ]
     },
     "execution_count": 28,
     "metadata": {},
     "output_type": "execute_result"
    }
   ],
   "source": [
    "from sklearn.neighbors import KNeighborsClassifier\n",
    "\n",
    "knn = KNeighborsClassifier()\n",
    "knn.set_params(n_neighbors=5)\n",
    "knn.fit(X_train.values, y_train)"
   ]
  },
  {
   "cell_type": "markdown",
   "id": "7dad2f7b",
   "metadata": {},
   "source": [
    "Запуск инференса на обучающей и тестовой выборках с параметром **n_neighbors=5**:"
   ]
  },
  {
   "cell_type": "code",
   "execution_count": 29,
   "id": "c8f89d21",
   "metadata": {},
   "outputs": [],
   "source": [
    "y_train_pred = knn.predict(X_train.values)\n",
    "y_test_pred = knn.predict(X_test.values)"
   ]
  },
  {
   "cell_type": "markdown",
   "id": "4674f0fe",
   "metadata": {},
   "source": [
    "## 8. Ошибка на обучающей и тестовой выборках"
   ]
  },
  {
   "cell_type": "markdown",
   "id": "b996ae14",
   "metadata": {},
   "source": [
    "Проверка качества с параметром **n_neighbors=5**:"
   ]
  },
  {
   "cell_type": "code",
   "execution_count": 30,
   "id": "8657e4d7",
   "metadata": {},
   "outputs": [
    {
     "data": {
      "text/plain": [
       "(0.06269801567450392, 0.09854927463731866)"
      ]
     },
     "execution_count": 30,
     "metadata": {},
     "output_type": "execute_result"
    }
   ],
   "source": [
    "np.mean(y_train != y_train_pred), np.mean(y_test != y_test_pred)"
   ]
  },
  {
   "cell_type": "markdown",
   "id": "c8ef1ffa",
   "metadata": {},
   "source": [
    "Проверка качества с параметром **n_neighbors=7**:"
   ]
  },
  {
   "cell_type": "code",
   "execution_count": 31,
   "id": "94e15e75",
   "metadata": {},
   "outputs": [
    {
     "data": {
      "text/plain": [
       "(0.06820076705019176, 0.09304652326163082)"
      ]
     },
     "execution_count": 31,
     "metadata": {},
     "output_type": "execute_result"
    }
   ],
   "source": [
    "knn.set_params(n_neighbors=7)\n",
    "knn.fit(X_train.values, y_train)\n",
    "\n",
    "y_train_pred = knn.predict(X_train.values)\n",
    "y_test_pred = knn.predict(X_test.values)\n",
    "\n",
    "np.mean(y_train != y_train_pred), np.mean(y_test != y_test_pred)"
   ]
  },
  {
   "cell_type": "markdown",
   "id": "64634b75",
   "metadata": {},
   "source": [
    "Проверка качества с параметром **n_neighbors=10**:"
   ]
  },
  {
   "cell_type": "code",
   "execution_count": 32,
   "id": "c625618e",
   "metadata": {},
   "outputs": [
    {
     "data": {
      "text/plain": [
       "(0.07620476905119226, 0.09654827413706854)"
      ]
     },
     "execution_count": 32,
     "metadata": {},
     "output_type": "execute_result"
    }
   ],
   "source": [
    "knn.set_params(n_neighbors=10)\n",
    "knn.fit(X_train.values, y_train)\n",
    "\n",
    "y_train_pred = knn.predict(X_train.values)\n",
    "y_test_pred = knn.predict(X_test.values)\n",
    "\n",
    "np.mean(y_train != y_train_pred), np.mean(y_test != y_test_pred)"
   ]
  },
  {
   "cell_type": "markdown",
   "id": "a990a6f4",
   "metadata": {},
   "source": [
    "Проверка качества с параметром **n_neighbors=7** и **p=3**:"
   ]
  },
  {
   "cell_type": "code",
   "execution_count": 33,
   "id": "da212f7d",
   "metadata": {},
   "outputs": [
    {
     "data": {
      "text/plain": [
       "(0.0670335167583792, 0.09854927463731866)"
      ]
     },
     "execution_count": 33,
     "metadata": {},
     "output_type": "execute_result"
    }
   ],
   "source": [
    "knn.set_params(n_neighbors=7, p=3)\n",
    "knn.fit(X_train.values, y_train)\n",
    "\n",
    "y_train_pred = knn.predict(X_train.values)\n",
    "y_test_pred = knn.predict(X_test.values)\n",
    "\n",
    "np.mean(y_train != y_train_pred), np.mean(y_test != y_test_pred)"
   ]
  },
  {
   "cell_type": "markdown",
   "id": "b1ccbf4a",
   "metadata": {},
   "source": [
    "**Подытог**: для классификатора knn наименьшая ошибка на тестовой выборке достигается при параметрах **n_neighbors=7** и **p=2**."
   ]
  },
  {
   "cell_type": "markdown",
   "id": "2d6402a3",
   "metadata": {},
   "source": [
    "## 9. Инференс на других классификаторах"
   ]
  },
  {
   "cell_type": "markdown",
   "id": "1701f3ba",
   "metadata": {},
   "source": [
    "## Классификация методом SVC"
   ]
  },
  {
   "cell_type": "code",
   "execution_count": 34,
   "id": "2bec2f2a",
   "metadata": {},
   "outputs": [
    {
     "data": {
      "text/plain": [
       "(0.045356011339002834, 0.06503251625812906)"
      ]
     },
     "execution_count": 34,
     "metadata": {},
     "output_type": "execute_result"
    }
   ],
   "source": [
    "from sklearn.svm import SVC\n",
    "svc = SVC(gamma='auto')\n",
    "svc.fit(X_train, y_train)\n",
    "\n",
    "y_train_pred = svc.predict(X_train)\n",
    "y_test_pred = svc.predict(X_test)\n",
    "\n",
    "np.mean(y_train != y_train_pred), np.mean(y_test != y_test_pred)"
   ]
  },
  {
   "cell_type": "markdown",
   "id": "06093877",
   "metadata": {},
   "source": [
    "## Классификация методом Random Forest"
   ]
  },
  {
   "cell_type": "code",
   "execution_count": 35,
   "id": "e11e5237",
   "metadata": {},
   "outputs": [
    {
     "data": {
      "text/plain": [
       "(0.0, 0.04102051025512756)"
      ]
     },
     "execution_count": 35,
     "metadata": {},
     "output_type": "execute_result"
    }
   ],
   "source": [
    "from sklearn import ensemble\n",
    "rf = ensemble.RandomForestClassifier(n_estimators = 250)\n",
    "rf.fit(X_train, y_train)\n",
    "\n",
    "y_train_pred = rf.predict(X_train)\n",
    "y_test_pred = rf.predict(X_test)\n",
    "\n",
    "np.mean(y_train != y_train_pred), np.mean(y_test != y_test_pred)"
   ]
  },
  {
   "cell_type": "markdown",
   "id": "19e5ecc9",
   "metadata": {},
   "source": [
    "## Классификация методом Extremely Randomized Trees"
   ]
  },
  {
   "cell_type": "code",
   "execution_count": 36,
   "id": "b516add7",
   "metadata": {},
   "outputs": [
    {
     "data": {
      "text/plain": [
       "(0.0, 0.07553776888444222)"
      ]
     },
     "execution_count": 36,
     "metadata": {},
     "output_type": "execute_result"
    }
   ],
   "source": [
    "ert = ensemble.ExtraTreesClassifier(n_estimators = 250)\n",
    "ert.fit(X_train, y_train)\n",
    "\n",
    "y_train_pred = ert.predict(X_train)\n",
    "y_test_pred = ert.predict(X_test)\n",
    "\n",
    "np.mean(y_train != y_train_pred), np.mean(y_test != y_test_pred)"
   ]
  },
  {
   "cell_type": "markdown",
   "id": "4459cd60",
   "metadata": {},
   "source": [
    "## Классификация методом AdaBoost"
   ]
  },
  {
   "cell_type": "code",
   "execution_count": 37,
   "id": "cf5a677a",
   "metadata": {},
   "outputs": [
    {
     "data": {
      "text/plain": [
       "(0.053860263465065866, 0.07303651825912956)"
      ]
     },
     "execution_count": 37,
     "metadata": {},
     "output_type": "execute_result"
    }
   ],
   "source": [
    "ada = ensemble.AdaBoostClassifier(n_estimators = 250)\n",
    "ada.fit(X_train.values, y_train)\n",
    "\n",
    "y_train_pred = ada.predict(X_train.values)\n",
    "y_test_pred = ada.predict(X_test.values)\n",
    "\n",
    "np.mean(y_train != y_train_pred), np.mean(y_test != y_test_pred)"
   ]
  },
  {
   "cell_type": "markdown",
   "id": "8525d71c",
   "metadata": {},
   "source": [
    "## Классификация методом GBT"
   ]
  },
  {
   "cell_type": "code",
   "execution_count": 38,
   "id": "46b31f81",
   "metadata": {},
   "outputs": [
    {
     "data": {
      "text/plain": [
       "(0.013340003335000834, 0.03651825912956478)"
      ]
     },
     "execution_count": 38,
     "metadata": {},
     "output_type": "execute_result"
    }
   ],
   "source": [
    "gbt = ensemble.GradientBoostingClassifier(n_estimators = 250)\n",
    "gbt.fit(X_train, y_train)\n",
    "\n",
    "y_train_pred = gbt.predict(X_train)\n",
    "y_test_pred = gbt.predict(X_test)\n",
    "\n",
    "np.mean(y_train != y_train_pred), np.mean(y_test != y_test_pred)"
   ]
  },
  {
   "cell_type": "markdown",
   "id": "46f7e67e",
   "metadata": {},
   "source": [
    "**Подытог**: наименьшую ошибку на тестовой выборке показывает классификатор **GBT** с параметром **n_estimators = 250**"
   ]
  },
  {
   "cell_type": "markdown",
   "id": "d5a9433b",
   "metadata": {},
   "source": [
    "## 10. Борьба с несбалансированностью классов"
   ]
  },
  {
   "cell_type": "code",
   "execution_count": 39,
   "id": "5f7f538f",
   "metadata": {},
   "outputs": [
    {
     "data": {
      "image/png": "[encoded data removed]",
      "text/plain": [
       "<Figure size 432x288 with 1 Axes>"
      ]
     },
     "metadata": {
      "needs_background": "light"
     },
     "output_type": "display_data"
    }
   ],
   "source": [
    "sns.countplot(x='is_safe', data=data)\n",
    "pass"
   ]
  },
  {
   "cell_type": "code",
   "execution_count": 40,
   "id": "340abef1",
   "metadata": {},
   "outputs": [],
   "source": [
    "non_safe_count, safe_count = data['is_safe'].value_counts()\n",
    "\n",
    "class_0 = data[data['is_safe'] == 0]\n",
    "class_1 = data[data['is_safe'] == 1]\n",
    "\n",
    "class_0_balanced = class_0.sample(safe_count)\n",
    "\n",
    "balanced_data = pd.concat([class_0_balanced, class_1], ignore_index=True, sort=False)\n",
    "balanced_data.shape\n",
    "\n",
    "balanced_data_stand = (balanced_data - balanced_data.mean(axis = 0))/balanced_data.std(axis = 0)"
   ]
  },
  {
   "cell_type": "code",
   "execution_count": 41,
   "id": "119ed5e0",
   "metadata": {
    "scrolled": true
   },
   "outputs": [
    {
     "data": {
      "image/png": "[encoded data removed]",
      "text/plain": [
       "<Figure size 432x288 with 1 Axes>"
      ]
     },
     "metadata": {
      "needs_background": "light"
     },
     "output_type": "display_data"
    }
   ],
   "source": [
    "sns.countplot(x='is_safe', data=balanced_data)\n",
    "pass"
   ]
  },
  {
   "cell_type": "markdown",
   "id": "66a5165e",
   "metadata": {},
   "source": [
    "Подготовка данных для инференса:"
   ]
  },
  {
   "cell_type": "code",
   "execution_count": 42,
   "id": "77373ea1",
   "metadata": {},
   "outputs": [],
   "source": [
    "X = balanced_data_stand.drop(['is_safe'], axis=1)\n",
    "y = balanced_data['is_safe']"
   ]
  },
  {
   "cell_type": "code",
   "execution_count": 43,
   "id": "f2395282",
   "metadata": {},
   "outputs": [
    {
     "data": {
      "text/plain": [
       "(1368, 456)"
      ]
     },
     "execution_count": 43,
     "metadata": {},
     "output_type": "execute_result"
    }
   ],
   "source": [
    "from sklearn.model_selection import train_test_split\n",
    "X_train, X_test, y_train, y_test = train_test_split(X, y, test_size = 0.25, random_state = 42)\n",
    "\n",
    "N_train, _ = X_train.shape \n",
    "N_test,  _ = X_test.shape \n",
    "\n",
    "N_train, N_test"
   ]
  },
  {
   "cell_type": "markdown",
   "id": "243504b1",
   "metadata": {},
   "source": [
    "## KNN"
   ]
  },
  {
   "cell_type": "code",
   "execution_count": 46,
   "id": "61d0f038",
   "metadata": {},
   "outputs": [
    {
     "data": {
      "text/plain": [
       "(0.15204678362573099, 0.20394736842105263)"
      ]
     },
     "execution_count": 46,
     "metadata": {},
     "output_type": "execute_result"
    }
   ],
   "source": [
    "knn.set_params(n_neighbors=7)\n",
    "knn.fit(X_train.values, y_train)\n",
    "\n",
    "y_train_pred = knn.predict(X_train.values)\n",
    "y_test_pred = knn.predict(X_test.values)\n",
    "\n",
    "np.mean(y_train != y_train_pred), np.mean(y_test != y_test_pred)"
   ]
  },
  {
   "cell_type": "markdown",
   "id": "041b4025",
   "metadata": {},
   "source": [
    "## GBT"
   ]
  },
  {
   "cell_type": "code",
   "execution_count": 45,
   "id": "1f7d76e5",
   "metadata": {},
   "outputs": [
    {
     "data": {
      "text/plain": [
       "(0.0, 0.06359649122807018)"
      ]
     },
     "execution_count": 45,
     "metadata": {},
     "output_type": "execute_result"
    }
   ],
   "source": [
    "gbt = ensemble.GradientBoostingClassifier(n_estimators = 250)\n",
    "gbt.fit(X_train, y_train)\n",
    "\n",
    "y_train_pred = gbt.predict(X_train)\n",
    "y_test_pred = gbt.predict(X_test)\n",
    "\n",
    "np.mean(y_train != y_train_pred), np.mean(y_test != y_test_pred)"
   ]
  },
  {
   "cell_type": "markdown",
   "id": "0fcce610",
   "metadata": {},
   "source": [
    "В случае сбалансированных данных ошибка на тестовой выборке увеличилась. Скорее всего, это связано с существенным уменьшением объема данных после балансировки:\n",
    "- до балансировки N_train, N_test **(5997, 1999)**\n",
    "- после балансировки N_train, N_test **(1368, 456)**\n",
    "\n",
    "Объем сбалансированных данных существенно уменьшился потому, что изначально разбиение двух классов составляло **88.6%** vs **11.4%**. Следовательно, во время балансировки объем данных первого класса уменьшался, чтобы количество его объектов соответствовало количеству объектов второго класса."
   ]
  },
  {
   "cell_type": "markdown",
   "id": "fee94f4b",
   "metadata": {},
   "source": [
    "## 11. Исключение коррелированных переменных"
   ]
  },
  {
   "cell_type": "code",
   "execution_count": 47,
   "id": "bd84b410",
   "metadata": {},
   "outputs": [],
   "source": [
    "X = data_stand.drop(['bacteria', 'is_safe'], axis=1)\n",
    "y = data['is_safe']"
   ]
  },
  {
   "cell_type": "code",
   "execution_count": 48,
   "id": "5b215461",
   "metadata": {},
   "outputs": [
    {
     "data": {
      "text/plain": [
       "(5997, 1999)"
      ]
     },
     "execution_count": 48,
     "metadata": {},
     "output_type": "execute_result"
    }
   ],
   "source": [
    "X_train, X_test, y_train, y_test = train_test_split(X, y, test_size = 0.25, random_state = 42)\n",
    "\n",
    "N_train, _ = X_train.shape \n",
    "N_test,  _ = X_test.shape \n",
    "\n",
    "N_train, N_test"
   ]
  },
  {
   "cell_type": "markdown",
   "id": "03a16094",
   "metadata": {},
   "source": [
    "## KNN"
   ]
  },
  {
   "cell_type": "code",
   "execution_count": 49,
   "id": "aa2abbc2",
   "metadata": {},
   "outputs": [
    {
     "data": {
      "text/plain": [
       "(0.07120226780056695, 0.09254627313656828)"
      ]
     },
     "execution_count": 49,
     "metadata": {},
     "output_type": "execute_result"
    }
   ],
   "source": [
    "knn.set_params(n_neighbors=7)\n",
    "knn.fit(X_train.values, y_train)\n",
    "\n",
    "y_train_pred = knn.predict(X_train.values)\n",
    "y_test_pred = knn.predict(X_test.values)\n",
    "\n",
    "np.mean(y_train != y_train_pred), np.mean(y_test != y_test_pred)"
   ]
  },
  {
   "cell_type": "markdown",
   "id": "d840c5f9",
   "metadata": {},
   "source": [
    "## GBT"
   ]
  },
  {
   "cell_type": "code",
   "execution_count": 50,
   "id": "7209c58c",
   "metadata": {},
   "outputs": [
    {
     "data": {
      "text/plain": [
       "(0.014507253626813406, 0.03851925962981491)"
      ]
     },
     "execution_count": 50,
     "metadata": {},
     "output_type": "execute_result"
    }
   ],
   "source": [
    "gbt = ensemble.GradientBoostingClassifier(n_estimators = 250)\n",
    "gbt.fit(X_train, y_train)\n",
    "\n",
    "y_train_pred = gbt.predict(X_train)\n",
    "y_test_pred = gbt.predict(X_test)\n",
    "\n",
    "np.mean(y_train != y_train_pred), np.mean(y_test != y_test_pred)"
   ]
  },
  {
   "cell_type": "markdown",
   "id": "36d5ca06",
   "metadata": {},
   "source": [
    "Исключение коррелированной переменной приводит к небольшому увеличению ошибки на обучающей и валидационной выборках. Вероятнее всего, это связано с тем, что коэффициент корреляции **0.618535** между двумя наиболее коррелированными величинами недостаточно высок для того, чтобы можно было исключать один из коррелированных признаков. "
   ]
  },
  {
   "cell_type": "markdown",
   "id": "077a0dd2",
   "metadata": {},
   "source": [
    "## 12. Общие выводы"
   ]
  },
  {
   "cell_type": "markdown",
   "id": "7e76c3a8",
   "metadata": {},
   "source": [
    "В заключение можно подытожить:\n",
    "- для текущей задачи оценки качества воды при текущих входных данных наименьшую ошибку показал классификатор **GBT** с параметром **n_estimators = 250**. Ошибки (0.013340003335000834, 0.03651825912956478);\n",
    "- для текущей задачи оценки качества воды при текущих входных данных наибольшую ошибку показал классификатор **KNN** с параметром **n_neighbors = 5**. Ошибки: (0.06269801567450392, 0.09854927463731866);\n",
    "- приведение данных к сбалансированности классов не приводит к уменьшению ошибки классификации вследствие существенного сокращения объема данных после балансировки;\n",
    "- исключение коррелированных признаков не прикодит к уменьшению ошибки классификации, так как коэффициент корреляции между двумя наиболее коррелированными величинами недостаточно высок для того, чтобы можно было исключать один из коррелированных признаков."
   ]
  }
 ],
 "metadata": {
  "kernelspec": {
   "display_name": "Python 3 (ipykernel)",
   "language": "python",
   "name": "python3"
  },
  "language_info": {
   "codemirror_mode": {
    "name": "ipython",
    "version": 3
   },
   "file_extension": ".py",
   "mimetype": "text/x-python",
   "name": "python",
   "nbconvert_exporter": "python",
   "pygments_lexer": "ipython3",
   "version": "3.7.3"
  }
 },
 "nbformat": 4,
 "nbformat_minor": 5
}
