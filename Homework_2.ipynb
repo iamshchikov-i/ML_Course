{
 "cells": [
  {
   "cell_type": "markdown",
   "id": "f05e7077",
   "metadata": {},
   "source": [
    "## 1. Чтение данных"
   ]
  },
  {
   "cell_type": "code",
   "execution_count": 126,
   "id": "50756639",
   "metadata": {},
   "outputs": [],
   "source": [
    "import numpy as np\n",
    "import matplotlib.pyplot as plt\n",
    "import pandas as pd\n",
    "import seaborn as sns \n",
    "%matplotlib inline"
   ]
  },
  {
   "cell_type": "code",
   "execution_count": 127,
   "id": "1288fb9f",
   "metadata": {},
   "outputs": [],
   "source": [
    "url = \"https://raw.githubusercontent.com/iamshchikov-i/ML_Course/main/waterQuality.csv\"\n",
    "data_raw = pd.read_csv(url)"
   ]
  },
  {
   "cell_type": "markdown",
   "id": "605b5d08",
   "metadata": {},
   "source": [
    "## 2. Обработка пропущенных (невалидных) значений"
   ]
  },
  {
   "cell_type": "markdown",
   "id": "94d74bc0",
   "metadata": {},
   "source": [
    "В данных присутствуют некоторые невалидные объекты с признаком *is_safe* = *#NUM!*\n",
    "\n",
    "Необходимо удалить соответствующие объекты (3 шт.)."
   ]
  },
  {
   "cell_type": "code",
   "execution_count": 128,
   "id": "a81f0661",
   "metadata": {},
   "outputs": [
    {
     "data": {
      "text/plain": [
       "(7996, 21)"
      ]
     },
     "execution_count": 128,
     "metadata": {},
     "output_type": "execute_result"
    }
   ],
   "source": [
    "rows_to_drop = data_raw[\n",
    "    ~((data_raw['is_safe'] == '0') | (data_raw['is_safe'] == '1'))].index\n",
    "data = data_raw.drop(rows_to_drop)\n",
    "data.shape"
   ]
  },
  {
   "cell_type": "markdown",
   "id": "bdb77b49",
   "metadata": {},
   "source": [
    "Категориальных признаков нет. Однако, некоторые столбцы имеют тип *object* из-за наличия невалидных значений (удалены на предыдущем шаге).\n",
    "\n",
    "Приведем соответствующие столбцы к числовому типу *float64*"
   ]
  },
  {
   "cell_type": "code",
   "execution_count": 129,
   "id": "469435c9",
   "metadata": {},
   "outputs": [],
   "source": [
    "for feature in data.columns:\n",
    "    if data[feature].dtype == 'object':\n",
    "        data[feature] = data[feature].astype('float64')"
   ]
  },
  {
   "cell_type": "markdown",
   "id": "3cd92252",
   "metadata": {},
   "source": [
    "## 3. Нормализация"
   ]
  },
  {
   "cell_type": "code",
   "execution_count": 130,
   "id": "2a32808d",
   "metadata": {
    "scrolled": true
   },
   "outputs": [
    {
     "data": {
      "text/html": [
       "<div>\n",
       "<style scoped>\n",
       "    .dataframe tbody tr th:only-of-type {\n",
       "        vertical-align: middle;\n",
       "    }\n",
       "\n",
       "    .dataframe tbody tr th {\n",
       "        vertical-align: top;\n",
       "    }\n",
       "\n",
       "    .dataframe thead th {\n",
       "        text-align: right;\n",
       "    }\n",
       "</style>\n",
       "<table border=\"1\" class=\"dataframe\">\n",
       "  <thead>\n",
       "    <tr style=\"text-align: right;\">\n",
       "      <th></th>\n",
       "      <th>aluminium</th>\n",
       "      <th>ammonia</th>\n",
       "      <th>arsenic</th>\n",
       "      <th>barium</th>\n",
       "      <th>cadmium</th>\n",
       "      <th>chloramine</th>\n",
       "      <th>chromium</th>\n",
       "      <th>copper</th>\n",
       "      <th>flouride</th>\n",
       "      <th>bacteria</th>\n",
       "      <th>...</th>\n",
       "      <th>lead</th>\n",
       "      <th>nitrates</th>\n",
       "      <th>nitrites</th>\n",
       "      <th>mercury</th>\n",
       "      <th>perchlorate</th>\n",
       "      <th>radium</th>\n",
       "      <th>selenium</th>\n",
       "      <th>silver</th>\n",
       "      <th>uranium</th>\n",
       "      <th>is_safe</th>\n",
       "    </tr>\n",
       "  </thead>\n",
       "  <tbody>\n",
       "    <tr>\n",
       "      <th>count</th>\n",
       "      <td>7.996000e+03</td>\n",
       "      <td>7.996000e+03</td>\n",
       "      <td>7.996000e+03</td>\n",
       "      <td>7.996000e+03</td>\n",
       "      <td>7.996000e+03</td>\n",
       "      <td>7996.000000</td>\n",
       "      <td>7.996000e+03</td>\n",
       "      <td>7.996000e+03</td>\n",
       "      <td>7.996000e+03</td>\n",
       "      <td>7.996000e+03</td>\n",
       "      <td>...</td>\n",
       "      <td>7.996000e+03</td>\n",
       "      <td>7.996000e+03</td>\n",
       "      <td>7.996000e+03</td>\n",
       "      <td>7.996000e+03</td>\n",
       "      <td>7.996000e+03</td>\n",
       "      <td>7.996000e+03</td>\n",
       "      <td>7.996000e+03</td>\n",
       "      <td>7.996000e+03</td>\n",
       "      <td>7.996000e+03</td>\n",
       "      <td>7.996000e+03</td>\n",
       "    </tr>\n",
       "    <tr>\n",
       "      <th>mean</th>\n",
       "      <td>-1.421796e-16</td>\n",
       "      <td>1.706156e-16</td>\n",
       "      <td>-5.687185e-17</td>\n",
       "      <td>-1.137437e-16</td>\n",
       "      <td>-2.701413e-16</td>\n",
       "      <td>0.000000</td>\n",
       "      <td>-1.137437e-16</td>\n",
       "      <td>-8.530778e-17</td>\n",
       "      <td>1.315162e-16</td>\n",
       "      <td>1.848335e-16</td>\n",
       "      <td>...</td>\n",
       "      <td>1.777245e-16</td>\n",
       "      <td>1.270731e-16</td>\n",
       "      <td>1.421796e-16</td>\n",
       "      <td>-1.866108e-17</td>\n",
       "      <td>1.706156e-16</td>\n",
       "      <td>-8.530778e-17</td>\n",
       "      <td>-3.776647e-17</td>\n",
       "      <td>-1.706156e-16</td>\n",
       "      <td>-1.550647e-16</td>\n",
       "      <td>8.530778e-17</td>\n",
       "    </tr>\n",
       "    <tr>\n",
       "      <th>std</th>\n",
       "      <td>1.000000e+00</td>\n",
       "      <td>1.000000e+00</td>\n",
       "      <td>1.000000e+00</td>\n",
       "      <td>1.000000e+00</td>\n",
       "      <td>1.000000e+00</td>\n",
       "      <td>1.000000</td>\n",
       "      <td>1.000000e+00</td>\n",
       "      <td>1.000000e+00</td>\n",
       "      <td>1.000000e+00</td>\n",
       "      <td>1.000000e+00</td>\n",
       "      <td>...</td>\n",
       "      <td>1.000000e+00</td>\n",
       "      <td>1.000000e+00</td>\n",
       "      <td>1.000000e+00</td>\n",
       "      <td>1.000000e+00</td>\n",
       "      <td>1.000000e+00</td>\n",
       "      <td>1.000000e+00</td>\n",
       "      <td>1.000000e+00</td>\n",
       "      <td>1.000000e+00</td>\n",
       "      <td>1.000000e+00</td>\n",
       "      <td>1.000000e+00</td>\n",
       "    </tr>\n",
       "    <tr>\n",
       "      <th>min</th>\n",
       "      <td>-5.266605e-01</td>\n",
       "      <td>-1.617111e+00</td>\n",
       "      <td>-6.391775e-01</td>\n",
       "      <td>-1.289173e+00</td>\n",
       "      <td>-1.187357e+00</td>\n",
       "      <td>-0.848232</td>\n",
       "      <td>-9.136804e-01</td>\n",
       "      <td>-1.233089e+00</td>\n",
       "      <td>-1.772174e+00</td>\n",
       "      <td>-9.703093e-01</td>\n",
       "      <td>...</td>\n",
       "      <td>-1.709359e+00</td>\n",
       "      <td>-1.771796e+00</td>\n",
       "      <td>-2.319752e+00</td>\n",
       "      <td>-1.750033e+00</td>\n",
       "      <td>-9.308286e-01</td>\n",
       "      <td>-1.257146e+00</td>\n",
       "      <td>-1.726723e+00</td>\n",
       "      <td>-1.029552e+00</td>\n",
       "      <td>-1.660312e+00</td>\n",
       "      <td>-3.587823e-01</td>\n",
       "    </tr>\n",
       "    <tr>\n",
       "      <th>25%</th>\n",
       "      <td>-4.950480e-01</td>\n",
       "      <td>-8.673017e-01</td>\n",
       "      <td>-5.204279e-01</td>\n",
       "      <td>-8.287330e-01</td>\n",
       "      <td>-9.654388e-01</td>\n",
       "      <td>-0.809279</td>\n",
       "      <td>-7.289491e-01</td>\n",
       "      <td>-1.095389e+00</td>\n",
       "      <td>-8.363028e-01</td>\n",
       "      <td>-9.703093e-01</td>\n",
       "      <td>...</td>\n",
       "      <td>-8.841699e-01</td>\n",
       "      <td>-8.695904e-01</td>\n",
       "      <td>-5.753758e-01</td>\n",
       "      <td>-7.389592e-01</td>\n",
       "      <td>-8.081523e-01</td>\n",
       "      <td>-9.041251e-01</td>\n",
       "      <td>-1.031635e+00</td>\n",
       "      <td>-7.509395e-01</td>\n",
       "      <td>-9.169828e-01</td>\n",
       "      <td>-3.587823e-01</td>\n",
       "    </tr>\n",
       "    <tr>\n",
       "      <th>50%</th>\n",
       "      <td>-4.713387e-01</td>\n",
       "      <td>-1.669251e-02</td>\n",
       "      <td>-4.412615e-01</td>\n",
       "      <td>-3.107377e-01</td>\n",
       "      <td>-7.776576e-02</td>\n",
       "      <td>-0.641782</td>\n",
       "      <td>-5.811641e-01</td>\n",
       "      <td>-8.558893e-02</td>\n",
       "      <td>-3.779822e-03</td>\n",
       "      <td>-3.026241e-01</td>\n",
       "      <td>...</td>\n",
       "      <td>4.416754e-02</td>\n",
       "      <td>1.998391e-02</td>\n",
       "      <td>1.572622e-01</td>\n",
       "      <td>-6.490972e-02</td>\n",
       "      <td>-4.929816e-01</td>\n",
       "      <td>-2.196079e-01</td>\n",
       "      <td>1.099658e-02</td>\n",
       "      <td>-4.723272e-01</td>\n",
       "      <td>1.980103e-01</td>\n",
       "      <td>-3.587823e-01</td>\n",
       "    </tr>\n",
       "    <tr>\n",
       "      <th>75%</th>\n",
       "      <td>-3.053731e-01</td>\n",
       "      <td>8.845985e-01</td>\n",
       "      <td>-2.433455e-01</td>\n",
       "      <td>7.519748e-01</td>\n",
       "      <td>7.544278e-01</td>\n",
       "      <td>0.803367</td>\n",
       "      <td>7.119546e-01</td>\n",
       "      <td>8.936112e-01</td>\n",
       "      <td>8.919001e-01</td>\n",
       "      <td>8.809997e-01</td>\n",
       "      <td>...</td>\n",
       "      <td>8.865478e-01</td>\n",
       "      <td>8.644480e-01</td>\n",
       "      <td>7.503501e-01</td>\n",
       "      <td>9.461645e-01</td>\n",
       "      <td>7.361841e-01</td>\n",
       "      <td>7.533536e-01</td>\n",
       "      <td>7.060846e-01</td>\n",
       "      <td>6.421218e-01</td>\n",
       "      <td>9.413390e-01</td>\n",
       "      <td>-3.587823e-01</td>\n",
       "    </tr>\n",
       "    <tr>\n",
       "      <th>max</th>\n",
       "      <td>3.464415e+00</td>\n",
       "      <td>1.752665e+00</td>\n",
       "      <td>3.517058e+00</td>\n",
       "      <td>2.772567e+00</td>\n",
       "      <td>2.418815e+00</td>\n",
       "      <td>2.532871</td>\n",
       "      <td>2.411482e+00</td>\n",
       "      <td>1.826911e+00</td>\n",
       "      <td>1.672749e+00</td>\n",
       "      <td>2.064623e+00</td>\n",
       "      <td>...</td>\n",
       "      <td>1.728928e+00</td>\n",
       "      <td>1.806350e+00</td>\n",
       "      <td>2.791270e+00</td>\n",
       "      <td>1.620214e+00</td>\n",
       "      <td>2.461708e+00</td>\n",
       "      <td>2.182660e+00</td>\n",
       "      <td>1.748717e+00</td>\n",
       "      <td>2.453102e+00</td>\n",
       "      <td>1.684668e+00</td>\n",
       "      <td>2.786857e+00</td>\n",
       "    </tr>\n",
       "  </tbody>\n",
       "</table>\n",
       "<p>8 rows × 21 columns</p>\n",
       "</div>"
      ],
      "text/plain": [
       "          aluminium       ammonia       arsenic        barium       cadmium  \\\n",
       "count  7.996000e+03  7.996000e+03  7.996000e+03  7.996000e+03  7.996000e+03   \n",
       "mean  -1.421796e-16  1.706156e-16 -5.687185e-17 -1.137437e-16 -2.701413e-16   \n",
       "std    1.000000e+00  1.000000e+00  1.000000e+00  1.000000e+00  1.000000e+00   \n",
       "min   -5.266605e-01 -1.617111e+00 -6.391775e-01 -1.289173e+00 -1.187357e+00   \n",
       "25%   -4.950480e-01 -8.673017e-01 -5.204279e-01 -8.287330e-01 -9.654388e-01   \n",
       "50%   -4.713387e-01 -1.669251e-02 -4.412615e-01 -3.107377e-01 -7.776576e-02   \n",
       "75%   -3.053731e-01  8.845985e-01 -2.433455e-01  7.519748e-01  7.544278e-01   \n",
       "max    3.464415e+00  1.752665e+00  3.517058e+00  2.772567e+00  2.418815e+00   \n",
       "\n",
       "        chloramine      chromium        copper      flouride      bacteria  \\\n",
       "count  7996.000000  7.996000e+03  7.996000e+03  7.996000e+03  7.996000e+03   \n",
       "mean      0.000000 -1.137437e-16 -8.530778e-17  1.315162e-16  1.848335e-16   \n",
       "std       1.000000  1.000000e+00  1.000000e+00  1.000000e+00  1.000000e+00   \n",
       "min      -0.848232 -9.136804e-01 -1.233089e+00 -1.772174e+00 -9.703093e-01   \n",
       "25%      -0.809279 -7.289491e-01 -1.095389e+00 -8.363028e-01 -9.703093e-01   \n",
       "50%      -0.641782 -5.811641e-01 -8.558893e-02 -3.779822e-03 -3.026241e-01   \n",
       "75%       0.803367  7.119546e-01  8.936112e-01  8.919001e-01  8.809997e-01   \n",
       "max       2.532871  2.411482e+00  1.826911e+00  1.672749e+00  2.064623e+00   \n",
       "\n",
       "       ...          lead      nitrates      nitrites       mercury  \\\n",
       "count  ...  7.996000e+03  7.996000e+03  7.996000e+03  7.996000e+03   \n",
       "mean   ...  1.777245e-16  1.270731e-16  1.421796e-16 -1.866108e-17   \n",
       "std    ...  1.000000e+00  1.000000e+00  1.000000e+00  1.000000e+00   \n",
       "min    ... -1.709359e+00 -1.771796e+00 -2.319752e+00 -1.750033e+00   \n",
       "25%    ... -8.841699e-01 -8.695904e-01 -5.753758e-01 -7.389592e-01   \n",
       "50%    ...  4.416754e-02  1.998391e-02  1.572622e-01 -6.490972e-02   \n",
       "75%    ...  8.865478e-01  8.644480e-01  7.503501e-01  9.461645e-01   \n",
       "max    ...  1.728928e+00  1.806350e+00  2.791270e+00  1.620214e+00   \n",
       "\n",
       "        perchlorate        radium      selenium        silver       uranium  \\\n",
       "count  7.996000e+03  7.996000e+03  7.996000e+03  7.996000e+03  7.996000e+03   \n",
       "mean   1.706156e-16 -8.530778e-17 -3.776647e-17 -1.706156e-16 -1.550647e-16   \n",
       "std    1.000000e+00  1.000000e+00  1.000000e+00  1.000000e+00  1.000000e+00   \n",
       "min   -9.308286e-01 -1.257146e+00 -1.726723e+00 -1.029552e+00 -1.660312e+00   \n",
       "25%   -8.081523e-01 -9.041251e-01 -1.031635e+00 -7.509395e-01 -9.169828e-01   \n",
       "50%   -4.929816e-01 -2.196079e-01  1.099658e-02 -4.723272e-01  1.980103e-01   \n",
       "75%    7.361841e-01  7.533536e-01  7.060846e-01  6.421218e-01  9.413390e-01   \n",
       "max    2.461708e+00  2.182660e+00  1.748717e+00  2.453102e+00  1.684668e+00   \n",
       "\n",
       "            is_safe  \n",
       "count  7.996000e+03  \n",
       "mean   8.530778e-17  \n",
       "std    1.000000e+00  \n",
       "min   -3.587823e-01  \n",
       "25%   -3.587823e-01  \n",
       "50%   -3.587823e-01  \n",
       "75%   -3.587823e-01  \n",
       "max    2.786857e+00  \n",
       "\n",
       "[8 rows x 21 columns]"
      ]
     },
     "execution_count": 130,
     "metadata": {},
     "output_type": "execute_result"
    }
   ],
   "source": [
    "data_stand = (data - data.mean(axis = 0))/data.std(axis = 0)\n",
    "data_stand.describe()"
   ]
  },
  {
   "cell_type": "markdown",
   "id": "158bded3",
   "metadata": {},
   "source": [
    "## 4. Разбиение данных на обучающую и тестовую выборки"
   ]
  },
  {
   "cell_type": "code",
   "execution_count": 131,
   "id": "d59916e6",
   "metadata": {},
   "outputs": [],
   "source": [
    "X = data_stand.drop(['is_safe'], axis=1)\n",
    "y = data['is_safe']"
   ]
  },
  {
   "cell_type": "code",
   "execution_count": 132,
   "id": "d245e83f",
   "metadata": {},
   "outputs": [
    {
     "data": {
      "text/plain": [
       "(5997, 1999)"
      ]
     },
     "execution_count": 132,
     "metadata": {},
     "output_type": "execute_result"
    }
   ],
   "source": [
    "from sklearn.model_selection import train_test_split\n",
    "X_train, X_test, y_train, y_test = train_test_split(X, y, test_size = 0.25, random_state = 42)\n",
    "\n",
    "N_train, _ = X_train.shape \n",
    "N_test,  _ = X_test.shape \n",
    "\n",
    "N_train, N_test"
   ]
  },
  {
   "cell_type": "markdown",
   "id": "8b09e048",
   "metadata": {},
   "source": [
    "## 5. Обучение MLPClassifier"
   ]
  },
  {
   "cell_type": "code",
   "execution_count": 133,
   "id": "bb64f369",
   "metadata": {},
   "outputs": [
    {
     "data": {
      "text/plain": [
       "MLPClassifier(hidden_layer_sizes=(2,), max_iter=2000, random_state=42,\n",
       "              solver='lbfgs')"
      ]
     },
     "execution_count": 133,
     "metadata": {},
     "output_type": "execute_result"
    }
   ],
   "source": [
    "from sklearn.neural_network import MLPClassifier\n",
    "\n",
    "mlp_model = MLPClassifier(hidden_layer_sizes = (2,),\n",
    "                          solver = 'lbfgs', \n",
    "                          activation = 'relu',\n",
    "                          random_state = 42,\n",
    "                          max_iter=2000)\n",
    "mlp_model.fit(X_train, y_train)"
   ]
  },
  {
   "cell_type": "markdown",
   "id": "7dad2f7b",
   "metadata": {},
   "source": [
    "Запуск инференса на обучающей и тестовой выборках с параметром **hidden_layer_sizes = (2,)**:"
   ]
  },
  {
   "cell_type": "code",
   "execution_count": 134,
   "id": "c8f89d21",
   "metadata": {},
   "outputs": [],
   "source": [
    "y_train_pred = mlp_model.predict(X_train)\n",
    "y_test_pred = mlp_model.predict(X_test)"
   ]
  },
  {
   "cell_type": "markdown",
   "id": "4674f0fe",
   "metadata": {},
   "source": [
    "## 6. Ошибка на обучающей и тестовой выборках"
   ]
  },
  {
   "cell_type": "markdown",
   "id": "b996ae14",
   "metadata": {},
   "source": [
    "Проверка качества для параметра **hidden_layer_sizes = (2,)**:"
   ]
  },
  {
   "cell_type": "code",
   "execution_count": 135,
   "id": "8657e4d7",
   "metadata": {},
   "outputs": [
    {
     "data": {
      "text/plain": [
       "(0.045856261464065365, 0.054527263631815905)"
      ]
     },
     "execution_count": 135,
     "metadata": {},
     "output_type": "execute_result"
    }
   ],
   "source": [
    "np.mean(y_train != y_train_pred), np.mean(y_test != y_test_pred)"
   ]
  },
  {
   "cell_type": "markdown",
   "id": "c8ef1ffa",
   "metadata": {},
   "source": [
    "Проверка качества с параметром **hidden_layer_sizes = (1,)**:"
   ]
  },
  {
   "cell_type": "code",
   "execution_count": 136,
   "id": "94e15e75",
   "metadata": {},
   "outputs": [
    {
     "data": {
      "text/plain": [
       "(0.09171252292813073, 0.09504752376188094)"
      ]
     },
     "execution_count": 136,
     "metadata": {},
     "output_type": "execute_result"
    }
   ],
   "source": [
    "mlp_model = MLPClassifier(hidden_layer_sizes = (1,),\n",
    "                          solver = 'lbfgs', \n",
    "                          activation = 'relu',\n",
    "                          random_state = 42,\n",
    "                          max_iter=2000)\n",
    "mlp_model.fit(X_train, y_train)\n",
    "\n",
    "y_train_pred = mlp_model.predict(X_train)\n",
    "y_test_pred = mlp_model.predict(X_test)\n",
    "\n",
    "np.mean(y_train != y_train_pred), np.mean(y_test != y_test_pred)"
   ]
  },
  {
   "cell_type": "markdown",
   "id": "2d6402a3",
   "metadata": {},
   "source": [
    "## 7. Зависимость ошибки от параметра alpha"
   ]
  },
  {
   "cell_type": "code",
   "execution_count": 137,
   "id": "2bec2f2a",
   "metadata": {},
   "outputs": [],
   "source": [
    "alpha_arr = np.logspace(-4, 3, 20)\n",
    "test_err = []\n",
    "train_err = []\n",
    "for alpha in alpha_arr:\n",
    "    mlp_model = MLPClassifier(hidden_layer_sizes = (2,),\n",
    "                          solver = 'lbfgs', \n",
    "                          activation = 'relu',\n",
    "                          random_state = 42,\n",
    "                          max_iter=2000,\n",
    "                          alpha = alpha)\n",
    "    mlp_model.fit(X_train, y_train)\n",
    "\n",
    "    y_train_pred = mlp_model.predict(X_train)\n",
    "    y_test_pred = mlp_model.predict(X_test)\n",
    "\n",
    "    train_err.append(np.mean(y_train != y_train_pred))\n",
    "    test_err.append(np.mean(y_test != y_test_pred))"
   ]
  },
  {
   "cell_type": "code",
   "execution_count": 138,
   "id": "e11e5237",
   "metadata": {
    "scrolled": true
   },
   "outputs": [
    {
     "data": {
      "image/png": "[encoded data removed]",
      "text/plain": [
       "<Figure size 432x288 with 1 Axes>"
      ]
     },
     "metadata": {
      "needs_background": "light"
     },
     "output_type": "display_data"
    }
   ],
   "source": [
    "plt.semilogx(alpha_arr, train_err, 'r-o', label = 'train')\n",
    "plt.semilogx(alpha_arr, test_err, 'b-o', label = 'test')\n",
    "plt.xlim([np.max(alpha_arr), np.min(alpha_arr)])\n",
    "\n",
    "plt.title('Error vs. alpha')\n",
    "plt.xlabel('alpha')\n",
    "plt.ylabel('error')\n",
    "plt.legend()\n",
    "pass"
   ]
  },
  {
   "cell_type": "markdown",
   "id": "ffee2f6b",
   "metadata": {},
   "source": [
    "Исходя из графика, можно сказать, что при *alpha* > 10 наблюдается недообучение (большая ошибка как на обучающей, так и на тестовой выборках)."
   ]
  },
  {
   "cell_type": "markdown",
   "id": "ba1bd1d2",
   "metadata": {},
   "source": [
    "Минимальное значение ошибки:"
   ]
  },
  {
   "cell_type": "code",
   "execution_count": 139,
   "id": "ffb4db3b",
   "metadata": {
    "scrolled": true
   },
   "outputs": [
    {
     "name": "stdout",
     "output_type": "stream",
     "text": [
      "0.04552276138069034 0.05252626313156578\n"
     ]
    }
   ],
   "source": [
    "min_train_err = np.min(train_err)\n",
    "min_test_err = np.min(test_err)\n",
    "print(min_train_err, min_test_err)"
   ]
  },
  {
   "cell_type": "markdown",
   "id": "e74bf52a",
   "metadata": {},
   "source": [
    "Оптимальное значение *alpha*:"
   ]
  },
  {
   "cell_type": "code",
   "execution_count": 140,
   "id": "e426425f",
   "metadata": {
    "scrolled": true
   },
   "outputs": [
    {
     "name": "stdout",
     "output_type": "stream",
     "text": [
      "[0.48329302]\n"
     ]
    }
   ],
   "source": [
    "alpha_opt = alpha_arr[test_err == min_test_err]\n",
    "print(alpha_opt)"
   ]
  },
  {
   "cell_type": "markdown",
   "id": "19e5ecc9",
   "metadata": {},
   "source": [
    "### Классификатор при оптимальном значении alpha"
   ]
  },
  {
   "cell_type": "code",
   "execution_count": 142,
   "id": "b516add7",
   "metadata": {},
   "outputs": [
    {
     "data": {
      "text/plain": [
       "(0.04568951142237786, 0.05252626313156578)"
      ]
     },
     "execution_count": 142,
     "metadata": {},
     "output_type": "execute_result"
    }
   ],
   "source": [
    "mlp_model = MLPClassifier(hidden_layer_sizes = (2,),\n",
    "                          solver = 'lbfgs', \n",
    "                          activation = 'relu',\n",
    "                          random_state = 42,\n",
    "                          max_iter=2000,\n",
    "                          alpha = alpha_opt)\n",
    "mlp_model.fit(X_train, y_train)\n",
    "\n",
    "y_train_pred = mlp_model.predict(X_train)\n",
    "y_test_pred = mlp_model.predict(X_test)\n",
    "\n",
    "np.mean(y_train != y_train_pred), np.mean(y_test != y_test_pred)"
   ]
  },
  {
   "cell_type": "markdown",
   "id": "4459cd60",
   "metadata": {},
   "source": [
    "## 8. Зависимость ошибки от количества нейронов"
   ]
  },
  {
   "cell_type": "code",
   "execution_count": 143,
   "id": "4c2edbf6",
   "metadata": {},
   "outputs": [],
   "source": [
    "neuron_numbers = np.array([1, 2, 3, 4, 5, 8, 9, 10, 11, 12, 15, 20, 25, 30, 40])\n",
    "test_err = []\n",
    "train_err = []\n",
    "for neuron_number in neuron_numbers:\n",
    "    mlp_model = MLPClassifier(hidden_layer_sizes = (2, neuron_number),\n",
    "                          solver = 'lbfgs', \n",
    "                          activation = 'relu',\n",
    "                          random_state = 42,\n",
    "                          max_iter=2000,\n",
    "                          alpha = alpha_opt)\n",
    "    mlp_model.fit(X_train, y_train)\n",
    "\n",
    "    y_train_pred = mlp_model.predict(X_train)\n",
    "    y_test_pred = mlp_model.predict(X_test)\n",
    "\n",
    "    train_err.append(np.mean(y_train != y_train_pred))\n",
    "    test_err.append(np.mean(y_test != y_test_pred))"
   ]
  },
  {
   "cell_type": "code",
   "execution_count": 144,
   "id": "7ec6aa4f",
   "metadata": {
    "scrolled": true
   },
   "outputs": [
    {
     "data": {
      "image/png": "[encoded data removed]",
      "text/plain": [
       "<Figure size 432x288 with 1 Axes>"
      ]
     },
     "metadata": {
      "needs_background": "light"
     },
     "output_type": "display_data"
    }
   ],
   "source": [
    "plt.semilogx(neuron_numbers, train_err, 'r-o', label = 'train')\n",
    "plt.semilogx(neuron_numbers, test_err, 'b-o', label = 'test')\n",
    "plt.xlim([np.min(neuron_numbers), np.max(neuron_numbers)])\n",
    "\n",
    "plt.title('Error vs. neuron number')\n",
    "plt.xlabel('neuron number')\n",
    "plt.ylabel('error')\n",
    "plt.legend()\n",
    "pass"
   ]
  },
  {
   "cell_type": "markdown",
   "id": "b823042b",
   "metadata": {},
   "source": [
    "Исходя из графика, можно сказать, что при *neuron number* = 0, ..., 10 наблюдается значительное колебание величины ошибки (в некоторых случаях - недообучение). При увеличении числа нейронов ситуация \"выравнивается\". "
   ]
  },
  {
   "cell_type": "markdown",
   "id": "3d0e278a",
   "metadata": {},
   "source": [
    "Минимальное значение ошибки:"
   ]
  },
  {
   "cell_type": "code",
   "execution_count": 145,
   "id": "68c8a044",
   "metadata": {
    "scrolled": true
   },
   "outputs": [
    {
     "name": "stdout",
     "output_type": "stream",
     "text": [
      "0.04385526096381524 0.05252626313156578\n"
     ]
    }
   ],
   "source": [
    "min_train_err = np.min(train_err)\n",
    "min_test_err = np.min(test_err)\n",
    "print(min_train_err, min_test_err)"
   ]
  },
  {
   "cell_type": "markdown",
   "id": "bf0185d6",
   "metadata": {},
   "source": [
    "Оптимальное значение *neuron number*:"
   ]
  },
  {
   "cell_type": "code",
   "execution_count": 146,
   "id": "323ef5fe",
   "metadata": {
    "scrolled": false
   },
   "outputs": [
    {
     "name": "stdout",
     "output_type": "stream",
     "text": [
      "[11]\n"
     ]
    }
   ],
   "source": [
    "neuron_number_opt = neuron_numbers[test_err == min_test_err]\n",
    "print(neuron_number_opt)"
   ]
  },
  {
   "cell_type": "markdown",
   "id": "efb623e1",
   "metadata": {},
   "source": [
    "### Классификатор при оптимальном значении числа нейронов"
   ]
  },
  {
   "cell_type": "code",
   "execution_count": 147,
   "id": "bca7d41b",
   "metadata": {},
   "outputs": [
    {
     "data": {
      "text/plain": [
       "(0.04418876104719026, 0.05252626313156578)"
      ]
     },
     "execution_count": 147,
     "metadata": {},
     "output_type": "execute_result"
    }
   ],
   "source": [
    "mlp_model = MLPClassifier(hidden_layer_sizes = (2, neuron_number_opt[0]),\n",
    "                          solver = 'lbfgs', \n",
    "                          activation = 'relu',\n",
    "                          random_state = 42,\n",
    "                          max_iter=2000,\n",
    "                          alpha = alpha_opt)\n",
    "mlp_model.fit(X_train, y_train)\n",
    "\n",
    "y_train_pred = mlp_model.predict(X_train)\n",
    "y_test_pred = mlp_model.predict(X_test)\n",
    "\n",
    "np.mean(y_train != y_train_pred), np.mean(y_test != y_test_pred)"
   ]
  },
  {
   "cell_type": "markdown",
   "id": "df215793",
   "metadata": {},
   "source": [
    "## 9. Зависимость ошибки от количества слоев"
   ]
  },
  {
   "cell_type": "code",
   "execution_count": 164,
   "id": "375c62f7",
   "metadata": {},
   "outputs": [],
   "source": [
    "layer_numbers = np.array([2, 3, 4, 5, 7, 10, 30, 50])\n",
    "test_err = []\n",
    "train_err = []\n",
    "for ln in layer_numbers:\n",
    "    mlp_model = MLPClassifier(hidden_layer_sizes = (ln, neuron_number_opt[0]),\n",
    "                          solver = 'lbfgs', \n",
    "                          activation = 'relu',\n",
    "                          random_state = 42,\n",
    "                          max_iter=5000,\n",
    "                          alpha = alpha_opt)\n",
    "    mlp_model.fit(X_train, y_train)\n",
    "\n",
    "    y_train_pred = mlp_model.predict(X_train)\n",
    "    y_test_pred = mlp_model.predict(X_test)\n",
    "\n",
    "    train_err.append(np.mean(y_train != y_train_pred))\n",
    "    test_err.append(np.mean(y_test != y_test_pred))"
   ]
  },
  {
   "cell_type": "code",
   "execution_count": 165,
   "id": "61aa1fdc",
   "metadata": {},
   "outputs": [
    {
     "data": {
      "image/png": "[encoded data removed]",
      "text/plain": [
       "<Figure size 432x288 with 1 Axes>"
      ]
     },
     "metadata": {
      "needs_background": "light"
     },
     "output_type": "display_data"
    }
   ],
   "source": [
    "plt.semilogx(layer_numbers, train_err, 'r-o', label = 'train')\n",
    "plt.semilogx(layer_numbers, test_err, 'b-o', label = 'test')\n",
    "plt.xlim([np.min(layer_numbers), np.max(layer_numbers)])\n",
    "\n",
    "plt.title('Error vs. layer_numbers')\n",
    "plt.xlabel('layer_numbers')\n",
    "plt.ylabel('error')\n",
    "plt.legend()\n",
    "pass"
   ]
  },
  {
   "cell_type": "markdown",
   "id": "64f430b9",
   "metadata": {},
   "source": [
    "Исходя из графика, можно сказать, что при увеличении числа скрытых слоев, начиная с 5, наблюдается переобучение (высокая ошибка на тестовой выборке и значительно низкая ошибка на тренировочной)."
   ]
  },
  {
   "cell_type": "markdown",
   "id": "e9635021",
   "metadata": {},
   "source": [
    "Минимальное значение ошибки:"
   ]
  },
  {
   "cell_type": "code",
   "execution_count": 166,
   "id": "ba0a1417",
   "metadata": {
    "scrolled": true
   },
   "outputs": [
    {
     "name": "stdout",
     "output_type": "stream",
     "text": [
      "0.001167250291812573 0.04252126063031516\n"
     ]
    }
   ],
   "source": [
    "min_train_err = np.min(train_err)\n",
    "min_test_err = np.min(test_err)\n",
    "print(min_train_err, min_test_err)"
   ]
  },
  {
   "cell_type": "markdown",
   "id": "98f9c2c1",
   "metadata": {},
   "source": [
    "Оптимальное значение *layer number*:"
   ]
  },
  {
   "cell_type": "code",
   "execution_count": 168,
   "id": "210c245c",
   "metadata": {
    "scrolled": false
   },
   "outputs": [
    {
     "name": "stdout",
     "output_type": "stream",
     "text": [
      "[4]\n"
     ]
    }
   ],
   "source": [
    "layer_number_opt = layer_numbers[test_err == min_test_err]\n",
    "print(layer_number_opt)"
   ]
  },
  {
   "cell_type": "markdown",
   "id": "077a0dd2",
   "metadata": {},
   "source": [
    "## 10. Общие выводы"
   ]
  },
  {
   "cell_type": "markdown",
   "id": "7e76c3a8",
   "metadata": {},
   "source": [
    "В заключение можно подытожить:\n",
    "- для текущей задачи при текущих входных данных при параметре *alpha* > 10 наблюдается недообучение;\n",
    "- при изменяемом параметре *neuron number* < 10 наблюдается значительное колебание величины ошибки;\n",
    "- при увеличении числа скрытых слоев, начиная с 5, наблюдается переобучение."
   ]
  }
 ],
 "metadata": {
  "kernelspec": {
   "display_name": "Python 3 (ipykernel)",
   "language": "python",
   "name": "python3"
  },
  "language_info": {
   "codemirror_mode": {
    "name": "ipython",
    "version": 3
   },
   "file_extension": ".py",
   "mimetype": "text/x-python",
   "name": "python",
   "nbconvert_exporter": "python",
   "pygments_lexer": "ipython3",
   "version": "3.7.3"
  }
 },
 "nbformat": 4,
 "nbformat_minor": 5
}
